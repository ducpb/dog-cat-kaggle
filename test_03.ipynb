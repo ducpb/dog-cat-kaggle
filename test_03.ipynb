{
  "nbformat": 4,
  "nbformat_minor": 0,
  "metadata": {
    "colab": {
      "name": "test_03.ipynb",
      "provenance": [],
      "authorship_tag": "ABX9TyMEvNzbT1JNIuZqY1kEurnb",
      "include_colab_link": true
    },
    "kernelspec": {
      "name": "python3",
      "display_name": "Python 3"
    },
    "accelerator": "GPU"
  },
  "cells": [
    {
      "cell_type": "markdown",
      "metadata": {
        "id": "view-in-github",
        "colab_type": "text"
      },
      "source": [
        "<a href=\"https://colab.research.google.com/github/ducpb/dog-cat-kaggle/blob/master/test_03.ipynb\" target=\"_parent\"><img src=\"https://colab.research.google.com/assets/colab-badge.svg\" alt=\"Open In Colab\"/></a>"
      ]
    },
    {
      "cell_type": "code",
      "metadata": {
        "id": "9DibOxf8jnJW",
        "colab_type": "code",
        "outputId": "4039f0f9-f45d-467b-cdaf-70019aa30261",
        "colab": {
          "base_uri": "https://localhost:8080/",
          "height": 34
        }
      },
      "source": [
        "from google.colab import drive\n",
        "drive.mount('/content/drive')"
      ],
      "execution_count": 0,
      "outputs": [
        {
          "output_type": "stream",
          "text": [
            "Drive already mounted at /content/drive; to attempt to forcibly remount, call drive.mount(\"/content/drive\", force_remount=True).\n"
          ],
          "name": "stdout"
        }
      ]
    },
    {
      "cell_type": "code",
      "metadata": {
        "id": "XdQ-JCFtjoxw",
        "colab_type": "code",
        "colab": {}
      },
      "source": [
        "import os, cv2\n",
        "import numpy as np\n",
        "import pandas as pd\n",
        "import matplotlib.pyplot as plt\n",
        "\n",
        "from tensorflow.keras import layers\n",
        "from tensorflow.keras import Model\n",
        "from tensorflow.keras.optimizers import Adam\n",
        "from tensorflow.keras.preprocessing.image import ImageDataGenerator"
      ],
      "execution_count": 0,
      "outputs": []
    },
    {
      "cell_type": "code",
      "metadata": {
        "id": "SV4zbwD2jo6m",
        "colab_type": "code",
        "colab": {}
      },
      "source": [
        "train_datagen = ImageDataGenerator(\n",
        "    rescale=1./255,\n",
        "    rotation_range=60,\n",
        "    width_shift_range=0.2,\n",
        "    height_shift_range=0.2,\n",
        "    horizontal_flip=True,\n",
        "    shear_range=0.2,\n",
        "    zoom_range=0.2\n",
        ")\n",
        "val_datagen = ImageDataGenerator(rescale=1./255)"
      ],
      "execution_count": 0,
      "outputs": []
    },
    {
      "cell_type": "code",
      "metadata": {
        "id": "C24TEUtojpBQ",
        "colab_type": "code",
        "outputId": "b90bd63e-f3f8-42a1-b7e8-88671109c4f1",
        "colab": {
          "base_uri": "https://localhost:8080/",
          "height": 51
        }
      },
      "source": [
        "batch_size = 20\n",
        "height, width = (150,150)\n",
        "\n",
        "train_generator = train_datagen.flow_from_directory(\n",
        "        './drive/My Drive/Colab Notebooks/data/train',\n",
        "        target_size=(height, width),\n",
        "        batch_size=batch_size,\n",
        "        class_mode='categorical')\n",
        "\n",
        "validation_generator = val_datagen.flow_from_directory(\n",
        "        './drive/My Drive/Colab Notebooks/data/validation',\n",
        "        target_size=(height, width),\n",
        "        batch_size=batch_size,\n",
        "        class_mode='categorical')"
      ],
      "execution_count": 0,
      "outputs": [
        {
          "output_type": "stream",
          "text": [
            "Found 2000 images belonging to 2 classes.\n",
            "Found 1000 images belonging to 2 classes.\n"
          ],
          "name": "stdout"
        }
      ]
    },
    {
      "cell_type": "code",
      "metadata": {
        "id": "wFhfOLpxjtuU",
        "colab_type": "code",
        "outputId": "04c647e4-1ee0-489d-c4f9-585a07e52c18",
        "colab": {
          "base_uri": "https://localhost:8080/",
          "height": 527
        }
      },
      "source": [
        "in_put = layers.Input(shape=(150,150,3))\n",
        "x = layers.Conv2D(24, 3, activation='relu')(in_put)\n",
        "x = layers.MaxPooling2D(2)(x)\n",
        "\n",
        "x = layers.Conv2D(48, 3, activation='relu')(x)\n",
        "x = layers.MaxPooling2D(2)(x)\n",
        "\n",
        "x = layers.Conv2D(96, 3, activation='relu')(x)\n",
        "x = layers.MaxPooling2D(2)(x)\n",
        "\n",
        "x = layers.Flatten()(x)\n",
        "x = layers.Dense(512, activation='relu')(x)\n",
        "x = layers.Dropout(0.4)(x)\n",
        "out_put = layers.Dense(2, activation='softmax')(x)\n",
        "\n",
        "model = Model(in_put, out_put)\n",
        "model.summary();"
      ],
      "execution_count": 0,
      "outputs": [
        {
          "output_type": "stream",
          "text": [
            "Model: \"model\"\n",
            "_________________________________________________________________\n",
            "Layer (type)                 Output Shape              Param #   \n",
            "=================================================================\n",
            "input_1 (InputLayer)         [(None, 150, 150, 3)]     0         \n",
            "_________________________________________________________________\n",
            "conv2d (Conv2D)              (None, 148, 148, 24)      672       \n",
            "_________________________________________________________________\n",
            "max_pooling2d (MaxPooling2D) (None, 74, 74, 24)        0         \n",
            "_________________________________________________________________\n",
            "conv2d_1 (Conv2D)            (None, 72, 72, 48)        10416     \n",
            "_________________________________________________________________\n",
            "max_pooling2d_1 (MaxPooling2 (None, 36, 36, 48)        0         \n",
            "_________________________________________________________________\n",
            "conv2d_2 (Conv2D)            (None, 34, 34, 96)        41568     \n",
            "_________________________________________________________________\n",
            "max_pooling2d_2 (MaxPooling2 (None, 17, 17, 96)        0         \n",
            "_________________________________________________________________\n",
            "flatten (Flatten)            (None, 27744)             0         \n",
            "_________________________________________________________________\n",
            "dense (Dense)                (None, 512)               14205440  \n",
            "_________________________________________________________________\n",
            "dropout (Dropout)            (None, 512)               0         \n",
            "_________________________________________________________________\n",
            "dense_1 (Dense)              (None, 2)                 1026      \n",
            "=================================================================\n",
            "Total params: 14,259,122\n",
            "Trainable params: 14,259,122\n",
            "Non-trainable params: 0\n",
            "_________________________________________________________________\n"
          ],
          "name": "stdout"
        }
      ]
    },
    {
      "cell_type": "code",
      "metadata": {
        "id": "sFG149Rmjtyk",
        "colab_type": "code",
        "colab": {}
      },
      "source": [
        "model.compile(loss='categorical_crossentropy', optimizer=Adam(lr=0.0001), metrics=['acc'])"
      ],
      "execution_count": 0,
      "outputs": []
    },
    {
      "cell_type": "code",
      "metadata": {
        "id": "AVoEWyVMjt2P",
        "colab_type": "code",
        "outputId": "44ffbebf-7332-479f-9a21-ca219bc4fc63",
        "colab": {
          "base_uri": "https://localhost:8080/",
          "height": 1000
        }
      },
      "source": [
        "H =model.fit_generator(\n",
        "      train_generator,\n",
        "      steps_per_epoch=100,\n",
        "      epochs=100,\n",
        "      validation_data=validation_generator,\n",
        "      validation_steps=50,\n",
        "      verbose=2)"
      ],
      "execution_count": 0,
      "outputs": [
        {
          "output_type": "stream",
          "text": [
            "Epoch 1/100\n",
            "100/100 - 27s - loss: 0.6668 - acc: 0.5935 - val_loss: 0.6639 - val_acc: 0.5780\n",
            "Epoch 2/100\n",
            "100/100 - 24s - loss: 0.6572 - acc: 0.6010 - val_loss: 0.6108 - val_acc: 0.6880\n",
            "Epoch 3/100\n",
            "100/100 - 24s - loss: 0.6424 - acc: 0.6125 - val_loss: 0.6021 - val_acc: 0.6480\n",
            "Epoch 4/100\n",
            "100/100 - 24s - loss: 0.6145 - acc: 0.6530 - val_loss: 0.6252 - val_acc: 0.6260\n",
            "Epoch 5/100\n",
            "100/100 - 24s - loss: 0.6032 - acc: 0.6540 - val_loss: 0.5694 - val_acc: 0.6920\n",
            "Epoch 6/100\n",
            "100/100 - 24s - loss: 0.5942 - acc: 0.6760 - val_loss: 0.5490 - val_acc: 0.7020\n",
            "Epoch 7/100\n",
            "100/100 - 24s - loss: 0.5923 - acc: 0.6755 - val_loss: 0.5539 - val_acc: 0.7090\n",
            "Epoch 8/100\n",
            "100/100 - 24s - loss: 0.6001 - acc: 0.6615 - val_loss: 0.5566 - val_acc: 0.6920\n",
            "Epoch 9/100\n",
            "100/100 - 24s - loss: 0.5770 - acc: 0.6885 - val_loss: 0.5356 - val_acc: 0.7290\n",
            "Epoch 10/100\n",
            "100/100 - 24s - loss: 0.5628 - acc: 0.7130 - val_loss: 0.5663 - val_acc: 0.6960\n",
            "Epoch 11/100\n",
            "100/100 - 24s - loss: 0.5657 - acc: 0.7125 - val_loss: 0.5352 - val_acc: 0.7260\n",
            "Epoch 12/100\n",
            "100/100 - 24s - loss: 0.5750 - acc: 0.6965 - val_loss: 0.5285 - val_acc: 0.7300\n",
            "Epoch 13/100\n",
            "100/100 - 24s - loss: 0.5691 - acc: 0.6945 - val_loss: 0.5432 - val_acc: 0.7170\n",
            "Epoch 14/100\n",
            "100/100 - 24s - loss: 0.5669 - acc: 0.7000 - val_loss: 0.5380 - val_acc: 0.7140\n",
            "Epoch 15/100\n",
            "100/100 - 24s - loss: 0.5512 - acc: 0.7130 - val_loss: 0.5283 - val_acc: 0.7170\n",
            "Epoch 16/100\n",
            "100/100 - 24s - loss: 0.5555 - acc: 0.7105 - val_loss: 0.5900 - val_acc: 0.6680\n",
            "Epoch 17/100\n",
            "100/100 - 24s - loss: 0.5450 - acc: 0.7220 - val_loss: 0.5321 - val_acc: 0.7180\n",
            "Epoch 18/100\n",
            "100/100 - 25s - loss: 0.5340 - acc: 0.7295 - val_loss: 0.5346 - val_acc: 0.7240\n",
            "Epoch 19/100\n",
            "100/100 - 24s - loss: 0.5415 - acc: 0.7290 - val_loss: 0.5309 - val_acc: 0.7140\n",
            "Epoch 20/100\n",
            "100/100 - 24s - loss: 0.5287 - acc: 0.7300 - val_loss: 0.5413 - val_acc: 0.7260\n",
            "Epoch 21/100\n",
            "100/100 - 24s - loss: 0.5435 - acc: 0.7145 - val_loss: 0.4869 - val_acc: 0.7560\n",
            "Epoch 22/100\n",
            "100/100 - 24s - loss: 0.5335 - acc: 0.7270 - val_loss: 0.5124 - val_acc: 0.7300\n",
            "Epoch 23/100\n",
            "100/100 - 24s - loss: 0.5293 - acc: 0.7345 - val_loss: 0.5173 - val_acc: 0.7340\n",
            "Epoch 24/100\n",
            "100/100 - 24s - loss: 0.5238 - acc: 0.7290 - val_loss: 0.5173 - val_acc: 0.7380\n",
            "Epoch 25/100\n",
            "100/100 - 24s - loss: 0.5198 - acc: 0.7380 - val_loss: 0.4971 - val_acc: 0.7470\n",
            "Epoch 26/100\n",
            "100/100 - 24s - loss: 0.5122 - acc: 0.7430 - val_loss: 0.5381 - val_acc: 0.7220\n",
            "Epoch 27/100\n",
            "100/100 - 24s - loss: 0.5222 - acc: 0.7380 - val_loss: 0.4728 - val_acc: 0.7660\n",
            "Epoch 28/100\n",
            "100/100 - 24s - loss: 0.5179 - acc: 0.7440 - val_loss: 0.5213 - val_acc: 0.7370\n",
            "Epoch 29/100\n",
            "100/100 - 24s - loss: 0.5084 - acc: 0.7595 - val_loss: 0.4806 - val_acc: 0.7540\n",
            "Epoch 30/100\n",
            "100/100 - 24s - loss: 0.5180 - acc: 0.7550 - val_loss: 0.5042 - val_acc: 0.7490\n",
            "Epoch 31/100\n",
            "100/100 - 25s - loss: 0.4950 - acc: 0.7555 - val_loss: 0.5107 - val_acc: 0.7500\n",
            "Epoch 32/100\n",
            "100/100 - 24s - loss: 0.5040 - acc: 0.7450 - val_loss: 0.4642 - val_acc: 0.7750\n",
            "Epoch 33/100\n",
            "100/100 - 24s - loss: 0.5094 - acc: 0.7485 - val_loss: 0.4872 - val_acc: 0.7490\n",
            "Epoch 34/100\n",
            "100/100 - 24s - loss: 0.4927 - acc: 0.7575 - val_loss: 0.5043 - val_acc: 0.7400\n",
            "Epoch 35/100\n",
            "100/100 - 24s - loss: 0.4950 - acc: 0.7515 - val_loss: 0.4991 - val_acc: 0.7750\n",
            "Epoch 36/100\n",
            "100/100 - 23s - loss: 0.4938 - acc: 0.7520 - val_loss: 0.4659 - val_acc: 0.7730\n",
            "Epoch 37/100\n",
            "100/100 - 23s - loss: 0.4928 - acc: 0.7590 - val_loss: 0.5286 - val_acc: 0.7260\n",
            "Epoch 38/100\n",
            "100/100 - 23s - loss: 0.4822 - acc: 0.7660 - val_loss: 0.4809 - val_acc: 0.7680\n",
            "Epoch 39/100\n",
            "100/100 - 23s - loss: 0.4985 - acc: 0.7465 - val_loss: 0.5066 - val_acc: 0.7510\n",
            "Epoch 40/100\n",
            "100/100 - 23s - loss: 0.4898 - acc: 0.7600 - val_loss: 0.4833 - val_acc: 0.7500\n",
            "Epoch 41/100\n",
            "100/100 - 23s - loss: 0.4987 - acc: 0.7495 - val_loss: 0.4778 - val_acc: 0.7810\n",
            "Epoch 42/100\n",
            "100/100 - 23s - loss: 0.4736 - acc: 0.7700 - val_loss: 0.4811 - val_acc: 0.7710\n",
            "Epoch 43/100\n",
            "100/100 - 23s - loss: 0.4916 - acc: 0.7600 - val_loss: 0.5090 - val_acc: 0.7510\n",
            "Epoch 44/100\n",
            "100/100 - 23s - loss: 0.4774 - acc: 0.7730 - val_loss: 0.5373 - val_acc: 0.7320\n",
            "Epoch 45/100\n",
            "100/100 - 23s - loss: 0.4787 - acc: 0.7650 - val_loss: 0.4750 - val_acc: 0.7740\n",
            "Epoch 46/100\n",
            "100/100 - 23s - loss: 0.4791 - acc: 0.7810 - val_loss: 0.4896 - val_acc: 0.7530\n",
            "Epoch 47/100\n",
            "100/100 - 23s - loss: 0.4688 - acc: 0.7765 - val_loss: 0.4902 - val_acc: 0.7660\n",
            "Epoch 48/100\n",
            "100/100 - 23s - loss: 0.4816 - acc: 0.7745 - val_loss: 0.4977 - val_acc: 0.7630\n",
            "Epoch 49/100\n",
            "100/100 - 23s - loss: 0.4720 - acc: 0.7690 - val_loss: 0.4708 - val_acc: 0.7750\n",
            "Epoch 50/100\n",
            "100/100 - 23s - loss: 0.4589 - acc: 0.7820 - val_loss: 0.4797 - val_acc: 0.7690\n",
            "Epoch 51/100\n",
            "100/100 - 23s - loss: 0.4716 - acc: 0.7680 - val_loss: 0.5172 - val_acc: 0.7420\n",
            "Epoch 52/100\n",
            "100/100 - 23s - loss: 0.4696 - acc: 0.7855 - val_loss: 0.4745 - val_acc: 0.7630\n",
            "Epoch 53/100\n",
            "100/100 - 23s - loss: 0.4534 - acc: 0.7800 - val_loss: 0.4803 - val_acc: 0.7620\n",
            "Epoch 54/100\n",
            "100/100 - 23s - loss: 0.4645 - acc: 0.7730 - val_loss: 0.4853 - val_acc: 0.7620\n",
            "Epoch 55/100\n",
            "100/100 - 23s - loss: 0.4584 - acc: 0.7840 - val_loss: 0.4747 - val_acc: 0.7760\n",
            "Epoch 56/100\n",
            "100/100 - 23s - loss: 0.4681 - acc: 0.7790 - val_loss: 0.4718 - val_acc: 0.7680\n",
            "Epoch 57/100\n",
            "100/100 - 23s - loss: 0.4550 - acc: 0.7745 - val_loss: 0.4921 - val_acc: 0.7630\n",
            "Epoch 58/100\n",
            "100/100 - 23s - loss: 0.4605 - acc: 0.7825 - val_loss: 0.4938 - val_acc: 0.7640\n",
            "Epoch 59/100\n",
            "100/100 - 23s - loss: 0.4512 - acc: 0.7835 - val_loss: 0.4844 - val_acc: 0.7600\n",
            "Epoch 60/100\n",
            "100/100 - 23s - loss: 0.4431 - acc: 0.7945 - val_loss: 0.4746 - val_acc: 0.7790\n",
            "Epoch 61/100\n",
            "100/100 - 23s - loss: 0.4584 - acc: 0.7795 - val_loss: 0.5127 - val_acc: 0.7530\n",
            "Epoch 62/100\n",
            "100/100 - 23s - loss: 0.4631 - acc: 0.7750 - val_loss: 0.4694 - val_acc: 0.7760\n",
            "Epoch 63/100\n",
            "100/100 - 23s - loss: 0.4542 - acc: 0.7785 - val_loss: 0.4667 - val_acc: 0.7740\n",
            "Epoch 64/100\n",
            "100/100 - 23s - loss: 0.4512 - acc: 0.7900 - val_loss: 0.4697 - val_acc: 0.7620\n",
            "Epoch 65/100\n",
            "100/100 - 23s - loss: 0.4487 - acc: 0.7895 - val_loss: 0.4719 - val_acc: 0.7740\n",
            "Epoch 66/100\n",
            "100/100 - 23s - loss: 0.4481 - acc: 0.7885 - val_loss: 0.4750 - val_acc: 0.7670\n",
            "Epoch 67/100\n",
            "100/100 - 23s - loss: 0.4556 - acc: 0.7885 - val_loss: 0.4688 - val_acc: 0.7710\n",
            "Epoch 68/100\n",
            "100/100 - 23s - loss: 0.4513 - acc: 0.7800 - val_loss: 0.4474 - val_acc: 0.7970\n",
            "Epoch 69/100\n",
            "100/100 - 23s - loss: 0.4449 - acc: 0.7825 - val_loss: 0.5351 - val_acc: 0.7270\n",
            "Epoch 70/100\n",
            "100/100 - 23s - loss: 0.4216 - acc: 0.7925 - val_loss: 0.4528 - val_acc: 0.7880\n",
            "Epoch 71/100\n",
            "100/100 - 24s - loss: 0.4230 - acc: 0.7980 - val_loss: 0.5109 - val_acc: 0.7480\n",
            "Epoch 72/100\n",
            "100/100 - 24s - loss: 0.4415 - acc: 0.7950 - val_loss: 0.4831 - val_acc: 0.7680\n",
            "Epoch 73/100\n",
            "100/100 - 24s - loss: 0.4306 - acc: 0.7955 - val_loss: 0.5288 - val_acc: 0.7460\n",
            "Epoch 74/100\n",
            "100/100 - 24s - loss: 0.4409 - acc: 0.7835 - val_loss: 0.4700 - val_acc: 0.7670\n",
            "Epoch 75/100\n",
            "100/100 - 23s - loss: 0.4375 - acc: 0.7980 - val_loss: 0.4886 - val_acc: 0.7720\n",
            "Epoch 76/100\n",
            "100/100 - 23s - loss: 0.4260 - acc: 0.8065 - val_loss: 0.4813 - val_acc: 0.7740\n",
            "Epoch 77/100\n",
            "100/100 - 23s - loss: 0.4258 - acc: 0.7990 - val_loss: 0.4730 - val_acc: 0.7560\n",
            "Epoch 78/100\n",
            "100/100 - 23s - loss: 0.4343 - acc: 0.7985 - val_loss: 0.4338 - val_acc: 0.7930\n",
            "Epoch 79/100\n",
            "100/100 - 23s - loss: 0.4089 - acc: 0.8065 - val_loss: 0.4714 - val_acc: 0.7630\n",
            "Epoch 80/100\n",
            "100/100 - 23s - loss: 0.4174 - acc: 0.8145 - val_loss: 0.4670 - val_acc: 0.7640\n",
            "Epoch 81/100\n",
            "100/100 - 23s - loss: 0.4282 - acc: 0.7940 - val_loss: 0.4865 - val_acc: 0.7580\n",
            "Epoch 82/100\n",
            "100/100 - 23s - loss: 0.4188 - acc: 0.8115 - val_loss: 0.4840 - val_acc: 0.7620\n",
            "Epoch 83/100\n",
            "100/100 - 23s - loss: 0.4170 - acc: 0.8065 - val_loss: 0.5174 - val_acc: 0.7600\n",
            "Epoch 84/100\n",
            "100/100 - 23s - loss: 0.4233 - acc: 0.8095 - val_loss: 0.4492 - val_acc: 0.7870\n",
            "Epoch 85/100\n",
            "100/100 - 24s - loss: 0.4150 - acc: 0.8035 - val_loss: 0.4643 - val_acc: 0.7790\n",
            "Epoch 86/100\n",
            "100/100 - 24s - loss: 0.4145 - acc: 0.8050 - val_loss: 0.4560 - val_acc: 0.7680\n",
            "Epoch 87/100\n",
            "100/100 - 23s - loss: 0.4085 - acc: 0.8205 - val_loss: 0.4828 - val_acc: 0.7640\n",
            "Epoch 88/100\n",
            "100/100 - 23s - loss: 0.4234 - acc: 0.8040 - val_loss: 0.4580 - val_acc: 0.7660\n",
            "Epoch 89/100\n",
            "100/100 - 23s - loss: 0.3914 - acc: 0.8250 - val_loss: 0.4848 - val_acc: 0.7650\n",
            "Epoch 90/100\n",
            "100/100 - 23s - loss: 0.4188 - acc: 0.8090 - val_loss: 0.4722 - val_acc: 0.7820\n",
            "Epoch 91/100\n",
            "100/100 - 23s - loss: 0.4091 - acc: 0.8080 - val_loss: 0.4470 - val_acc: 0.7790\n",
            "Epoch 92/100\n",
            "100/100 - 23s - loss: 0.4198 - acc: 0.8125 - val_loss: 0.4722 - val_acc: 0.7760\n",
            "Epoch 93/100\n",
            "100/100 - 23s - loss: 0.4308 - acc: 0.7975 - val_loss: 0.4368 - val_acc: 0.7990\n",
            "Epoch 94/100\n",
            "100/100 - 23s - loss: 0.3960 - acc: 0.8245 - val_loss: 0.4545 - val_acc: 0.7930\n",
            "Epoch 95/100\n",
            "100/100 - 23s - loss: 0.3986 - acc: 0.8145 - val_loss: 0.4612 - val_acc: 0.7820\n",
            "Epoch 96/100\n",
            "100/100 - 23s - loss: 0.3855 - acc: 0.8245 - val_loss: 0.4752 - val_acc: 0.7790\n",
            "Epoch 97/100\n",
            "100/100 - 23s - loss: 0.4038 - acc: 0.8120 - val_loss: 0.4517 - val_acc: 0.7890\n",
            "Epoch 98/100\n",
            "100/100 - 24s - loss: 0.4031 - acc: 0.8145 - val_loss: 0.4600 - val_acc: 0.7670\n",
            "Epoch 99/100\n",
            "100/100 - 23s - loss: 0.4093 - acc: 0.8135 - val_loss: 0.4721 - val_acc: 0.7770\n",
            "Epoch 100/100\n",
            "100/100 - 23s - loss: 0.4040 - acc: 0.8080 - val_loss: 0.4802 - val_acc: 0.7590\n"
          ],
          "name": "stdout"
        }
      ]
    },
    {
      "cell_type": "code",
      "metadata": {
        "id": "4Q-EgQtpj0qH",
        "colab_type": "code",
        "outputId": "44c6b740-ebe5-4ffa-aa24-d21410ac7a2d",
        "colab": {
          "base_uri": "https://localhost:8080/",
          "height": 562
        }
      },
      "source": [
        "acc = H.history['acc']\n",
        "val_acc = H.history['val_acc']\n",
        "loss = H.history['loss']\n",
        "val_loss = H.history['val_loss']\n",
        "\n",
        "epochs = range(len(acc))\n",
        "\n",
        "plt.plot(epochs, acc)\n",
        "plt.plot(epochs, val_acc)\n",
        "plt.title('Training and validation accuracy')\n",
        "\n",
        "plt.figure()\n",
        "\n",
        "plt.plot(epochs, loss)\n",
        "plt.plot(epochs, val_loss)\n",
        "plt.title('Training and validation loss')"
      ],
      "execution_count": 0,
      "outputs": [
        {
          "output_type": "execute_result",
          "data": {
            "text/plain": [
              "Text(0.5, 1.0, 'Training and validation loss')"
            ]
          },
          "metadata": {
            "tags": []
          },
          "execution_count": 9
        },
        {
          "output_type": "display_data",
          "data": {
            "image/png": "[encoded data removed]",
            "text/plain": [
              "<Figure size 432x288 with 1 Axes>"
            ]
          },
          "metadata": {
            "tags": [],
            "needs_background": "light"
          }
        },
        {
          "output_type": "display_data",
          "data": {
            "image/png": "[encoded data removed]",
            "text/plain": [
              "<Figure size 432x288 with 1 Axes>"
            ]
          },
          "metadata": {
            "tags": [],
            "needs_background": "light"
          }
        }
      ]
    }
  ]
}