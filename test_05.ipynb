{
  "nbformat": 4,
  "nbformat_minor": 0,
  "metadata": {
    "colab": {
      "name": "test_05.ipynb",
      "provenance": [],
      "collapsed_sections": [],
      "authorship_tag": "ABX9TyNaT8zFvbZmYIqgMW/Oylew",
      "include_colab_link": true
    },
    "kernelspec": {
      "name": "python3",
      "display_name": "Python 3"
    },
    "accelerator": "GPU"
  },
  "cells": [
    {
      "cell_type": "markdown",
      "metadata": {
        "id": "view-in-github",
        "colab_type": "text"
      },
      "source": [
        "<a href=\"https://colab.research.google.com/github/ducpb/dog-cat-kaggle/blob/master/test_05.ipynb\" target=\"_parent\"><img src=\"https://colab.research.google.com/assets/colab-badge.svg\" alt=\"Open In Colab\"/></a>"
      ]
    },
    {
      "cell_type": "code",
      "metadata": {
        "id": "VSc6w3xrQg5U",
        "colab_type": "code",
        "colab": {
          "base_uri": "https://localhost:8080/",
          "height": 34
        },
        "outputId": "b5728adb-5f53-4dfb-feb3-7d642ef61f85"
      },
      "source": [
        "from google.colab import drive\n",
        "drive.mount('/content/drive')"
      ],
      "execution_count": 1,
      "outputs": [
        {
          "output_type": "stream",
          "text": [
            "Drive already mounted at /content/drive; to attempt to forcibly remount, call drive.mount(\"/content/drive\", force_remount=True).\n"
          ],
          "name": "stdout"
        }
      ]
    },
    {
      "cell_type": "code",
      "metadata": {
        "id": "1Roqt6fsQl-m",
        "colab_type": "code",
        "colab": {}
      },
      "source": [
        "import os, cv2\n",
        "import numpy as np\n",
        "import pandas as pd\n",
        "import matplotlib.pyplot as plt\n",
        "\n",
        "from tensorflow.keras import layers\n",
        "from tensorflow.keras import Model\n",
        "from tensorflow.keras.optimizers import Adam\n",
        "from tensorflow.keras.preprocessing.image import ImageDataGenerator"
      ],
      "execution_count": 0,
      "outputs": []
    },
    {
      "cell_type": "code",
      "metadata": {
        "id": "JAZDtal1QmBW",
        "colab_type": "code",
        "colab": {}
      },
      "source": [
        "train_datagen = ImageDataGenerator(\n",
        "    rescale=1./255,\n",
        "    rotation_range=60,\n",
        "    width_shift_range=0.2,\n",
        "    height_shift_range=0.2,\n",
        "    horizontal_flip=True,\n",
        "    shear_range=0.2,\n",
        "    zoom_range=0.2\n",
        ")\n",
        "val_datagen = ImageDataGenerator(rescale=1./255)"
      ],
      "execution_count": 0,
      "outputs": []
    },
    {
      "cell_type": "code",
      "metadata": {
        "id": "ew8TpzbWQmGC",
        "colab_type": "code",
        "colab": {
          "base_uri": "https://localhost:8080/",
          "height": 51
        },
        "outputId": "5aa97271-7fd7-4917-d882-002c0ebd1f28"
      },
      "source": [
        "batch_size = 20\n",
        "height, width = (150,150)\n",
        "\n",
        "train_generator = train_datagen.flow_from_directory(\n",
        "        './drive/My Drive/Colab Notebooks/data/train',\n",
        "        target_size=(height, width),\n",
        "        batch_size=batch_size,\n",
        "        class_mode='categorical')\n",
        "\n",
        "validation_generator = val_datagen.flow_from_directory(\n",
        "        './drive/My Drive/Colab Notebooks/data/validation',\n",
        "        target_size=(height, width),\n",
        "        batch_size=batch_size,\n",
        "        class_mode='categorical')"
      ],
      "execution_count": 4,
      "outputs": [
        {
          "output_type": "stream",
          "text": [
            "Found 2000 images belonging to 2 classes.\n",
            "Found 1000 images belonging to 2 classes.\n"
          ],
          "name": "stdout"
        }
      ]
    },
    {
      "cell_type": "code",
      "metadata": {
        "id": "8JkpZFlIQmI0",
        "colab_type": "code",
        "colab": {}
      },
      "source": [
        "from tensorflow.keras.applications.vgg16 import VGG16"
      ],
      "execution_count": 0,
      "outputs": []
    },
    {
      "cell_type": "code",
      "metadata": {
        "id": "BZ5AdYEwQmEz",
        "colab_type": "code",
        "colab": {}
      },
      "source": [
        "pre_trained_model = VGG16(input_shape=(150,150,3), include_top=False, weights=None)\n",
        "pre_trained_model.load_weights('./drive/My Drive/Colab Notebooks/model_trained/vgg16_weights_tf_dim_ordering_tf_kernels_notop.h5')"
      ],
      "execution_count": 0,
      "outputs": []
    },
    {
      "cell_type": "code",
      "metadata": {
        "id": "edND3p0JQuvU",
        "colab_type": "code",
        "colab": {}
      },
      "source": [
        "for layer in pre_trained_model.layers:\n",
        "  layer.trainable = False\n",
        "  \n",
        "flag = False\n",
        "for layer in pre_trained_model.layers:\n",
        "  if flag:\n",
        "    layer.trainable = True\n",
        "  if layer.name == 'block5_conv1':\n",
        "    flag = True\n",
        "\n",
        "last_layer = pre_trained_model.get_layer('block5_pool')\n",
        "last_output = last_layer.output"
      ],
      "execution_count": 0,
      "outputs": []
    },
    {
      "cell_type": "code",
      "metadata": {
        "id": "mOiqOMcNQu1E",
        "colab_type": "code",
        "colab": {
          "base_uri": "https://localhost:8080/",
          "height": 1000
        },
        "outputId": "5a7a3254-f3d8-455a-d3e6-4481cd13e537"
      },
      "source": [
        "x = layers.Flatten()(last_output)\n",
        "x = layers.Dense(1028, activation='relu')(x)\n",
        "x = layers.Dropout(0.4)(x)\n",
        "x = layers.Dense(1028, activation='relu')(x)\n",
        "x = layers.Dropout(0.4)(x)\n",
        "x = layers.Dense(2, activation='softmax')(x)\n",
        "model = Model(pre_trained_model.input, x)\n",
        "model.summary()"
      ],
      "execution_count": 8,
      "outputs": [
        {
          "output_type": "stream",
          "text": [
            "Model: \"model\"\n",
            "_________________________________________________________________\n",
            "Layer (type)                 Output Shape              Param #   \n",
            "=================================================================\n",
            "input_1 (InputLayer)         [(None, 150, 150, 3)]     0         \n",
            "_________________________________________________________________\n",
            "block1_conv1 (Conv2D)        (None, 150, 150, 64)      1792      \n",
            "_________________________________________________________________\n",
            "block1_conv2 (Conv2D)        (None, 150, 150, 64)      36928     \n",
            "_________________________________________________________________\n",
            "block1_pool (MaxPooling2D)   (None, 75, 75, 64)        0         \n",
            "_________________________________________________________________\n",
            "block2_conv1 (Conv2D)        (None, 75, 75, 128)       73856     \n",
            "_________________________________________________________________\n",
            "block2_conv2 (Conv2D)        (None, 75, 75, 128)       147584    \n",
            "_________________________________________________________________\n",
            "block2_pool (MaxPooling2D)   (None, 37, 37, 128)       0         \n",
            "_________________________________________________________________\n",
            "block3_conv1 (Conv2D)        (None, 37, 37, 256)       295168    \n",
            "_________________________________________________________________\n",
            "block3_conv2 (Conv2D)        (None, 37, 37, 256)       590080    \n",
            "_________________________________________________________________\n",
            "block3_conv3 (Conv2D)        (None, 37, 37, 256)       590080    \n",
            "_________________________________________________________________\n",
            "block3_pool (MaxPooling2D)   (None, 18, 18, 256)       0         \n",
            "_________________________________________________________________\n",
            "block4_conv1 (Conv2D)        (None, 18, 18, 512)       1180160   \n",
            "_________________________________________________________________\n",
            "block4_conv2 (Conv2D)        (None, 18, 18, 512)       2359808   \n",
            "_________________________________________________________________\n",
            "block4_conv3 (Conv2D)        (None, 18, 18, 512)       2359808   \n",
            "_________________________________________________________________\n",
            "block4_pool (MaxPooling2D)   (None, 9, 9, 512)         0         \n",
            "_________________________________________________________________\n",
            "block5_conv1 (Conv2D)        (None, 9, 9, 512)         2359808   \n",
            "_________________________________________________________________\n",
            "block5_conv2 (Conv2D)        (None, 9, 9, 512)         2359808   \n",
            "_________________________________________________________________\n",
            "block5_conv3 (Conv2D)        (None, 9, 9, 512)         2359808   \n",
            "_________________________________________________________________\n",
            "block5_pool (MaxPooling2D)   (None, 4, 4, 512)         0         \n",
            "_________________________________________________________________\n",
            "flatten (Flatten)            (None, 8192)              0         \n",
            "_________________________________________________________________\n",
            "dense (Dense)                (None, 1028)              8422404   \n",
            "_________________________________________________________________\n",
            "dropout (Dropout)            (None, 1028)              0         \n",
            "_________________________________________________________________\n",
            "dense_1 (Dense)              (None, 1028)              1057812   \n",
            "_________________________________________________________________\n",
            "dropout_1 (Dropout)          (None, 1028)              0         \n",
            "_________________________________________________________________\n",
            "dense_2 (Dense)              (None, 2)                 2058      \n",
            "=================================================================\n",
            "Total params: 24,196,962\n",
            "Trainable params: 14,201,890\n",
            "Non-trainable params: 9,995,072\n",
            "_________________________________________________________________\n"
          ],
          "name": "stdout"
        }
      ]
    },
    {
      "cell_type": "code",
      "metadata": {
        "id": "DOBp5BQ4RT5G",
        "colab_type": "code",
        "colab": {}
      },
      "source": [
        "model.compile(loss='categorical_crossentropy', optimizer=Adam(lr=0.00001), metrics=['acc'])"
      ],
      "execution_count": 0,
      "outputs": []
    },
    {
      "cell_type": "code",
      "metadata": {
        "id": "t3oRVt8XRWE9",
        "colab_type": "code",
        "colab": {
          "base_uri": "https://localhost:8080/",
          "height": 1000
        },
        "outputId": "73cf0524-a271-4e5d-bd68-0d07ca3ae53e"
      },
      "source": [
        "H =model.fit_generator(\n",
        "      train_generator,\n",
        "      steps_per_epoch=100,\n",
        "      epochs=50,\n",
        "      validation_data=validation_generator,\n",
        "      validation_steps=50,\n",
        "      verbose=2)"
      ],
      "execution_count": 10,
      "outputs": [
        {
          "output_type": "stream",
          "text": [
            "WARNING:tensorflow:From <ipython-input-10-5972316c7da3>:7: Model.fit_generator (from tensorflow.python.keras.engine.training) is deprecated and will be removed in a future version.\n",
            "Instructions for updating:\n",
            "Please use Model.fit, which supports generators.\n",
            "Epoch 1/50\n",
            "100/100 - 21s - loss: 0.7618 - acc: 0.5325 - val_loss: 0.4995 - val_acc: 0.8010\n",
            "Epoch 2/50\n",
            "100/100 - 21s - loss: 0.5907 - acc: 0.6830 - val_loss: 0.3787 - val_acc: 0.8400\n",
            "Epoch 3/50\n",
            "100/100 - 21s - loss: 0.5102 - acc: 0.7455 - val_loss: 0.3286 - val_acc: 0.8450\n",
            "Epoch 4/50\n",
            "100/100 - 21s - loss: 0.4381 - acc: 0.7850 - val_loss: 0.2706 - val_acc: 0.8810\n",
            "Epoch 5/50\n",
            "100/100 - 21s - loss: 0.4086 - acc: 0.8130 - val_loss: 0.2556 - val_acc: 0.8890\n",
            "Epoch 6/50\n",
            "100/100 - 21s - loss: 0.3461 - acc: 0.8545 - val_loss: 0.2440 - val_acc: 0.8940\n",
            "Epoch 7/50\n",
            "100/100 - 21s - loss: 0.3323 - acc: 0.8525 - val_loss: 0.2346 - val_acc: 0.9030\n",
            "Epoch 8/50\n",
            "100/100 - 21s - loss: 0.3370 - acc: 0.8485 - val_loss: 0.2388 - val_acc: 0.9020\n",
            "Epoch 9/50\n",
            "100/100 - 21s - loss: 0.3344 - acc: 0.8515 - val_loss: 0.2376 - val_acc: 0.9020\n",
            "Epoch 10/50\n",
            "100/100 - 20s - loss: 0.3196 - acc: 0.8670 - val_loss: 0.2107 - val_acc: 0.9170\n",
            "Epoch 11/50\n",
            "100/100 - 20s - loss: 0.3005 - acc: 0.8780 - val_loss: 0.2212 - val_acc: 0.9020\n",
            "Epoch 12/50\n",
            "100/100 - 21s - loss: 0.2865 - acc: 0.8720 - val_loss: 0.2118 - val_acc: 0.9090\n",
            "Epoch 13/50\n",
            "100/100 - 21s - loss: 0.2692 - acc: 0.8800 - val_loss: 0.2382 - val_acc: 0.9060\n",
            "Epoch 14/50\n",
            "100/100 - 21s - loss: 0.2891 - acc: 0.8775 - val_loss: 0.2079 - val_acc: 0.9160\n",
            "Epoch 15/50\n",
            "100/100 - 21s - loss: 0.2552 - acc: 0.8900 - val_loss: 0.1831 - val_acc: 0.9180\n",
            "Epoch 16/50\n",
            "100/100 - 21s - loss: 0.2671 - acc: 0.8855 - val_loss: 0.2037 - val_acc: 0.9120\n",
            "Epoch 17/50\n",
            "100/100 - 21s - loss: 0.2522 - acc: 0.8910 - val_loss: 0.2104 - val_acc: 0.9210\n",
            "Epoch 18/50\n",
            "100/100 - 21s - loss: 0.2404 - acc: 0.8990 - val_loss: 0.1907 - val_acc: 0.9280\n",
            "Epoch 19/50\n",
            "100/100 - 21s - loss: 0.2497 - acc: 0.8970 - val_loss: 0.2134 - val_acc: 0.9230\n",
            "Epoch 20/50\n",
            "100/100 - 21s - loss: 0.2349 - acc: 0.9020 - val_loss: 0.2158 - val_acc: 0.9090\n",
            "Epoch 21/50\n",
            "100/100 - 21s - loss: 0.2220 - acc: 0.9155 - val_loss: 0.1623 - val_acc: 0.9400\n",
            "Epoch 22/50\n",
            "100/100 - 21s - loss: 0.2331 - acc: 0.9040 - val_loss: 0.2009 - val_acc: 0.9190\n",
            "Epoch 23/50\n",
            "100/100 - 21s - loss: 0.2263 - acc: 0.9015 - val_loss: 0.1873 - val_acc: 0.9200\n",
            "Epoch 24/50\n",
            "100/100 - 21s - loss: 0.2150 - acc: 0.9105 - val_loss: 0.2105 - val_acc: 0.9160\n",
            "Epoch 25/50\n",
            "100/100 - 21s - loss: 0.2149 - acc: 0.9080 - val_loss: 0.1831 - val_acc: 0.9350\n",
            "Epoch 26/50\n",
            "100/100 - 21s - loss: 0.2037 - acc: 0.9170 - val_loss: 0.1841 - val_acc: 0.9400\n",
            "Epoch 27/50\n",
            "100/100 - 21s - loss: 0.2020 - acc: 0.9135 - val_loss: 0.1937 - val_acc: 0.9320\n",
            "Epoch 28/50\n",
            "100/100 - 21s - loss: 0.2041 - acc: 0.9165 - val_loss: 0.2131 - val_acc: 0.9200\n",
            "Epoch 29/50\n",
            "100/100 - 21s - loss: 0.2092 - acc: 0.9125 - val_loss: 0.1630 - val_acc: 0.9410\n",
            "Epoch 30/50\n",
            "100/100 - 21s - loss: 0.1746 - acc: 0.9260 - val_loss: 0.1984 - val_acc: 0.9150\n",
            "Epoch 31/50\n",
            "100/100 - 21s - loss: 0.1873 - acc: 0.9240 - val_loss: 0.1638 - val_acc: 0.9380\n",
            "Epoch 32/50\n",
            "100/100 - 21s - loss: 0.1648 - acc: 0.9290 - val_loss: 0.2206 - val_acc: 0.9270\n",
            "Epoch 33/50\n",
            "100/100 - 21s - loss: 0.1825 - acc: 0.9315 - val_loss: 0.1692 - val_acc: 0.9300\n",
            "Epoch 34/50\n",
            "100/100 - 21s - loss: 0.1738 - acc: 0.9355 - val_loss: 0.1890 - val_acc: 0.9330\n",
            "Epoch 35/50\n",
            "100/100 - 21s - loss: 0.1761 - acc: 0.9245 - val_loss: 0.1738 - val_acc: 0.9330\n",
            "Epoch 36/50\n",
            "100/100 - 21s - loss: 0.1659 - acc: 0.9360 - val_loss: 0.1887 - val_acc: 0.9290\n",
            "Epoch 37/50\n",
            "100/100 - 21s - loss: 0.1696 - acc: 0.9285 - val_loss: 0.2178 - val_acc: 0.9360\n",
            "Epoch 38/50\n",
            "100/100 - 22s - loss: 0.1634 - acc: 0.9375 - val_loss: 0.1881 - val_acc: 0.9370\n",
            "Epoch 39/50\n",
            "100/100 - 22s - loss: 0.1740 - acc: 0.9265 - val_loss: 0.2131 - val_acc: 0.9310\n",
            "Epoch 40/50\n",
            "100/100 - 21s - loss: 0.1466 - acc: 0.9440 - val_loss: 0.1627 - val_acc: 0.9450\n",
            "Epoch 41/50\n",
            "100/100 - 21s - loss: 0.1590 - acc: 0.9355 - val_loss: 0.1841 - val_acc: 0.9380\n",
            "Epoch 42/50\n",
            "100/100 - 21s - loss: 0.1553 - acc: 0.9375 - val_loss: 0.2146 - val_acc: 0.9350\n",
            "Epoch 43/50\n",
            "100/100 - 21s - loss: 0.1414 - acc: 0.9465 - val_loss: 0.1820 - val_acc: 0.9380\n",
            "Epoch 44/50\n",
            "100/100 - 21s - loss: 0.1435 - acc: 0.9400 - val_loss: 0.1743 - val_acc: 0.9370\n",
            "Epoch 45/50\n",
            "100/100 - 21s - loss: 0.1413 - acc: 0.9440 - val_loss: 0.1826 - val_acc: 0.9300\n",
            "Epoch 46/50\n",
            "100/100 - 21s - loss: 0.1347 - acc: 0.9465 - val_loss: 0.1720 - val_acc: 0.9450\n",
            "Epoch 47/50\n",
            "100/100 - 21s - loss: 0.1380 - acc: 0.9475 - val_loss: 0.1811 - val_acc: 0.9380\n",
            "Epoch 48/50\n",
            "100/100 - 21s - loss: 0.1461 - acc: 0.9430 - val_loss: 0.1704 - val_acc: 0.9390\n",
            "Epoch 49/50\n",
            "100/100 - 21s - loss: 0.1306 - acc: 0.9485 - val_loss: 0.1797 - val_acc: 0.9310\n",
            "Epoch 50/50\n",
            "100/100 - 21s - loss: 0.1189 - acc: 0.9470 - val_loss: 0.1831 - val_acc: 0.9380\n"
          ],
          "name": "stdout"
        }
      ]
    },
    {
      "cell_type": "code",
      "metadata": {
        "id": "yrVvfE01RYDi",
        "colab_type": "code",
        "colab": {
          "base_uri": "https://localhost:8080/",
          "height": 562
        },
        "outputId": "b00db51f-fcc8-484f-d9e7-0109dd338a9a"
      },
      "source": [
        "acc = H.history['acc']\n",
        "val_acc = H.history['val_acc']\n",
        "loss = H.history['loss']\n",
        "val_loss = H.history['val_loss']\n",
        "\n",
        "epochs = range(len(acc))\n",
        "\n",
        "plt.plot(epochs, acc)\n",
        "plt.plot(epochs, val_acc)\n",
        "plt.title('Training and validation accuracy')\n",
        "\n",
        "plt.figure()\n",
        "\n",
        "plt.plot(epochs, loss)\n",
        "plt.plot(epochs, val_loss)\n",
        "plt.title('Training and validation loss')"
      ],
      "execution_count": 12,
      "outputs": [
        {
          "output_type": "execute_result",
          "data": {
            "text/plain": [
              "Text(0.5, 1.0, 'Training and validation loss')"
            ]
          },
          "metadata": {
            "tags": []
          },
          "execution_count": 12
        },
        {
          "output_type": "display_data",
          "data": {
            "image/png": "[encoded data removed]",
            "text/plain": [
              "<Figure size 432x288 with 1 Axes>"
            ]
          },
          "metadata": {
            "tags": [],
            "needs_background": "light"
          }
        },
        {
          "output_type": "display_data",
          "data": {
            "image/png": "[encoded data removed]",
            "text/plain": [
              "<Figure size 432x288 with 1 Axes>"
            ]
          },
          "metadata": {
            "tags": [],
            "needs_background": "light"
          }
        }
      ]
    }
  ]
}