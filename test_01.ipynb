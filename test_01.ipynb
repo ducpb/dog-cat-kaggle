{
  "nbformat": 4,
  "nbformat_minor": 0,
  "metadata": {
    "colab": {
      "name": "test_01.ipynb",
      "provenance": [],
      "authorship_tag": "ABX9TyNroc4bbHCJGdCyKbCnA0bi",
      "include_colab_link": true
    },
    "kernelspec": {
      "name": "python3",
      "display_name": "Python 3"
    },
    "accelerator": "GPU"
  },
  "cells": [
    {
      "cell_type": "markdown",
      "metadata": {
        "id": "view-in-github",
        "colab_type": "text"
      },
      "source": [
        "<a href=\"https://colab.research.google.com/github/ducpb/dog-cat-kaggle/blob/master/test_01.ipynb\" target=\"_parent\"><img src=\"https://colab.research.google.com/assets/colab-badge.svg\" alt=\"Open In Colab\"/></a>"
      ]
    },
    {
      "cell_type": "code",
      "metadata": {
        "id": "B__2uOdvoPZ-",
        "colab_type": "code",
        "outputId": "9e46108a-88af-4860-afbe-d9e3c35bb0ae",
        "colab": {
          "base_uri": "https://localhost:8080/",
          "height": 122
        }
      },
      "source": [
        "from google.colab import drive\n",
        "drive.mount('/content/drive')"
      ],
      "execution_count": 0,
      "outputs": [
        {
          "output_type": "stream",
          "text": [
            "Go to this URL in a browser: https://accounts.google.com/o/oauth2/auth?client_id=947318989803-6bn6qk8qdgf4n4g3pfee6491hc0brc4i.apps.googleusercontent.com&redirect_uri=urn%3aietf%3awg%3aoauth%3a2.0%3aoob&response_type=code&scope=email%20https%3a%2f%2fwww.googleapis.com%2fauth%2fdocs.test%20https%3a%2f%2fwww.googleapis.com%2fauth%2fdrive%20https%3a%2f%2fwww.googleapis.com%2fauth%2fdrive.photos.readonly%20https%3a%2f%2fwww.googleapis.com%2fauth%2fpeopleapi.readonly\n",
            "\n",
            "Enter your authorization code:\n",
            "··········\n",
            "Mounted at /content/drive\n"
          ],
          "name": "stdout"
        }
      ]
    },
    {
      "cell_type": "code",
      "metadata": {
        "id": "H29NBnoeob00",
        "colab_type": "code",
        "colab": {}
      },
      "source": [
        "import os, cv2\n",
        "import numpy as np\n",
        "import pandas as pd\n",
        "import matplotlib.pyplot as plt\n",
        "\n",
        "from tensorflow.keras import layers\n",
        "from tensorflow.keras import Model\n",
        "from tensorflow.keras.optimizers import Adam\n",
        "from tensorflow.keras.preprocessing.image import ImageDataGenerator"
      ],
      "execution_count": 0,
      "outputs": []
    },
    {
      "cell_type": "code",
      "metadata": {
        "id": "IsC70miuods2",
        "colab_type": "code",
        "outputId": "9dd66b01-0738-4698-a521-3ade434f0b47",
        "colab": {
          "base_uri": "https://localhost:8080/",
          "height": 34
        }
      },
      "source": [
        "!ls"
      ],
      "execution_count": 0,
      "outputs": [
        {
          "output_type": "stream",
          "text": [
            "drive  sample_data\n"
          ],
          "name": "stdout"
        }
      ]
    },
    {
      "cell_type": "code",
      "metadata": {
        "id": "AtK4PEVUofyH",
        "colab_type": "code",
        "colab": {}
      },
      "source": [
        "train_datagen = ImageDataGenerator(rescale=1./255)\n",
        "val_datagen = ImageDataGenerator(rescale=1./255)"
      ],
      "execution_count": 0,
      "outputs": []
    },
    {
      "cell_type": "code",
      "metadata": {
        "id": "wRGmutF-olb7",
        "colab_type": "code",
        "outputId": "b3ca5211-197c-47c4-9790-b9fbb277eb01",
        "colab": {
          "base_uri": "https://localhost:8080/",
          "height": 51
        }
      },
      "source": [
        "batch_size = 20\n",
        "height, width = (150,150)\n",
        "\n",
        "train_generator = train_datagen.flow_from_directory(\n",
        "        './drive/My Drive/Colab Notebooks/data/train',\n",
        "        target_size=(height, width),\n",
        "        batch_size=batch_size,\n",
        "        class_mode='categorical')\n",
        "\n",
        "validation_generator = val_datagen.flow_from_directory(\n",
        "        './drive/My Drive/Colab Notebooks/data/validation',\n",
        "        target_size=(height, width),\n",
        "        batch_size=batch_size,\n",
        "        class_mode='categorical')"
      ],
      "execution_count": 0,
      "outputs": [
        {
          "output_type": "stream",
          "text": [
            "Found 2000 images belonging to 2 classes.\n",
            "Found 1000 images belonging to 2 classes.\n"
          ],
          "name": "stdout"
        }
      ]
    },
    {
      "cell_type": "code",
      "metadata": {
        "id": "1oiSGQ3pqPoJ",
        "colab_type": "code",
        "outputId": "2a4db040-0d07-492d-829f-7ca9fb39e518",
        "colab": {
          "base_uri": "https://localhost:8080/",
          "height": 493
        }
      },
      "source": [
        "in_put = layers.Input(shape=(150,150,3))\n",
        "x = layers.Conv2D(24, 3, activation='relu')(in_put)\n",
        "x = layers.MaxPooling2D(2)(x)\n",
        "\n",
        "x = layers.Conv2D(48, 3, activation='relu')(x)\n",
        "x = layers.MaxPooling2D(2)(x)\n",
        "\n",
        "x = layers.Conv2D(96, 3, activation='relu')(x)\n",
        "x = layers.MaxPooling2D(2)(x)\n",
        "\n",
        "x = layers.Flatten()(x)\n",
        "x = layers.Dense(512, activation='relu')(x)\n",
        "out_put = layers.Dense(2, activation='softmax')(x)\n",
        "\n",
        "model = Model(in_put, out_put)\n",
        "model.summary();"
      ],
      "execution_count": 0,
      "outputs": [
        {
          "output_type": "stream",
          "text": [
            "Model: \"model\"\n",
            "_________________________________________________________________\n",
            "Layer (type)                 Output Shape              Param #   \n",
            "=================================================================\n",
            "input_1 (InputLayer)         [(None, 150, 150, 3)]     0         \n",
            "_________________________________________________________________\n",
            "conv2d (Conv2D)              (None, 148, 148, 24)      672       \n",
            "_________________________________________________________________\n",
            "max_pooling2d (MaxPooling2D) (None, 74, 74, 24)        0         \n",
            "_________________________________________________________________\n",
            "conv2d_1 (Conv2D)            (None, 72, 72, 48)        10416     \n",
            "_________________________________________________________________\n",
            "max_pooling2d_1 (MaxPooling2 (None, 36, 36, 48)        0         \n",
            "_________________________________________________________________\n",
            "conv2d_2 (Conv2D)            (None, 34, 34, 96)        41568     \n",
            "_________________________________________________________________\n",
            "max_pooling2d_2 (MaxPooling2 (None, 17, 17, 96)        0         \n",
            "_________________________________________________________________\n",
            "flatten (Flatten)            (None, 27744)             0         \n",
            "_________________________________________________________________\n",
            "dense (Dense)                (None, 512)               14205440  \n",
            "_________________________________________________________________\n",
            "dense_1 (Dense)              (None, 2)                 1026      \n",
            "=================================================================\n",
            "Total params: 14,259,122\n",
            "Trainable params: 14,259,122\n",
            "Non-trainable params: 0\n",
            "_________________________________________________________________\n"
          ],
          "name": "stdout"
        }
      ]
    },
    {
      "cell_type": "code",
      "metadata": {
        "id": "dfu9Wo_Yoq_D",
        "colab_type": "code",
        "colab": {}
      },
      "source": [
        "model.compile(loss='categorical_crossentropy', optimizer=Adam(lr=0.0001), metrics=['acc'])"
      ],
      "execution_count": 0,
      "outputs": []
    },
    {
      "cell_type": "code",
      "metadata": {
        "id": "Fted9KBaorfz",
        "colab_type": "code",
        "outputId": "9570707c-68bc-4f97-ca44-e80e527cab56",
        "colab": {
          "base_uri": "https://localhost:8080/",
          "height": 697
        }
      },
      "source": [
        "H =model.fit_generator(\n",
        "      train_generator,\n",
        "      steps_per_epoch=100,\n",
        "      epochs=20,\n",
        "      validation_data=validation_generator,\n",
        "      validation_steps=50,\n",
        "      verbose=2)"
      ],
      "execution_count": 0,
      "outputs": [
        {
          "output_type": "stream",
          "text": [
            "Epoch 1/20\n",
            "100/100 - 442s - loss: 0.6198 - acc: 0.6530 - val_loss: 0.5982 - val_acc: 0.6630\n",
            "Epoch 2/20\n",
            "100/100 - 11s - loss: 0.5485 - acc: 0.7240 - val_loss: 0.5802 - val_acc: 0.6860\n",
            "Epoch 3/20\n",
            "100/100 - 11s - loss: 0.5067 - acc: 0.7640 - val_loss: 0.5927 - val_acc: 0.6740\n",
            "Epoch 4/20\n",
            "100/100 - 11s - loss: 0.4669 - acc: 0.7780 - val_loss: 0.5893 - val_acc: 0.6990\n",
            "Epoch 5/20\n",
            "100/100 - 11s - loss: 0.4123 - acc: 0.8180 - val_loss: 0.5566 - val_acc: 0.7160\n",
            "Epoch 6/20\n",
            "100/100 - 11s - loss: 0.3839 - acc: 0.8400 - val_loss: 0.5350 - val_acc: 0.7430\n",
            "Epoch 7/20\n",
            "100/100 - 11s - loss: 0.3460 - acc: 0.8530 - val_loss: 0.5727 - val_acc: 0.7220\n",
            "Epoch 8/20\n",
            "100/100 - 11s - loss: 0.3089 - acc: 0.8715 - val_loss: 0.5930 - val_acc: 0.7070\n",
            "Epoch 9/20\n",
            "100/100 - 11s - loss: 0.2742 - acc: 0.8960 - val_loss: 0.5528 - val_acc: 0.7520\n",
            "Epoch 10/20\n",
            "100/100 - 11s - loss: 0.2438 - acc: 0.9090 - val_loss: 0.5557 - val_acc: 0.7510\n",
            "Epoch 11/20\n",
            "100/100 - 12s - loss: 0.2186 - acc: 0.9225 - val_loss: 0.6112 - val_acc: 0.7360\n",
            "Epoch 12/20\n",
            "100/100 - 11s - loss: 0.1846 - acc: 0.9425 - val_loss: 0.6479 - val_acc: 0.7310\n",
            "Epoch 13/20\n",
            "100/100 - 11s - loss: 0.1708 - acc: 0.9385 - val_loss: 0.6023 - val_acc: 0.7520\n",
            "Epoch 14/20\n",
            "100/100 - 11s - loss: 0.1311 - acc: 0.9640 - val_loss: 0.7538 - val_acc: 0.7250\n",
            "Epoch 15/20\n",
            "100/100 - 11s - loss: 0.1178 - acc: 0.9660 - val_loss: 0.6815 - val_acc: 0.7560\n",
            "Epoch 16/20\n",
            "100/100 - 11s - loss: 0.0988 - acc: 0.9740 - val_loss: 0.8022 - val_acc: 0.7320\n",
            "Epoch 17/20\n",
            "100/100 - 12s - loss: 0.0756 - acc: 0.9840 - val_loss: 0.7543 - val_acc: 0.7480\n",
            "Epoch 18/20\n",
            "100/100 - 11s - loss: 0.0723 - acc: 0.9860 - val_loss: 0.7423 - val_acc: 0.7430\n",
            "Epoch 19/20\n",
            "100/100 - 11s - loss: 0.0504 - acc: 0.9950 - val_loss: 0.7653 - val_acc: 0.7510\n",
            "Epoch 20/20\n",
            "100/100 - 11s - loss: 0.0354 - acc: 0.9985 - val_loss: 0.8109 - val_acc: 0.7460\n"
          ],
          "name": "stdout"
        }
      ]
    },
    {
      "cell_type": "code",
      "metadata": {
        "id": "-txERm4XouiU",
        "colab_type": "code",
        "outputId": "29212603-c508-4957-d82c-39659032dd40",
        "colab": {
          "base_uri": "https://localhost:8080/",
          "height": 562
        }
      },
      "source": [
        "acc = H.history['acc']\n",
        "val_acc = H.history['val_acc']\n",
        "loss = H.history['loss']\n",
        "val_loss = H.history['val_loss']\n",
        "\n",
        "epochs = range(len(acc))\n",
        "\n",
        "plt.plot(epochs, acc)\n",
        "plt.plot(epochs, val_acc)\n",
        "plt.title('Training and validation accuracy')\n",
        "\n",
        "plt.figure()\n",
        "\n",
        "plt.plot(epochs, loss)\n",
        "plt.plot(epochs, val_loss)\n",
        "plt.title('Training and validation loss')"
      ],
      "execution_count": 0,
      "outputs": [
        {
          "output_type": "execute_result",
          "data": {
            "text/plain": [
              "Text(0.5, 1.0, 'Training and validation loss')"
            ]
          },
          "metadata": {
            "tags": []
          },
          "execution_count": 10
        },
        {
          "output_type": "display_data",
          "data": {
            "image/png": "[encoded data removed]",
            "text/plain": [
              "<Figure size 432x288 with 1 Axes>"
            ]
          },
          "metadata": {
            "tags": [],
            "needs_background": "light"
          }
        },
        {
          "output_type": "display_data",
          "data": {
            "image/png": "[encoded data removed]",
            "text/plain": [
              "<Figure size 432x288 with 1 Axes>"
            ]
          },
          "metadata": {
            "tags": [],
            "needs_background": "light"
          }
        }
      ]
    }
  ]
}