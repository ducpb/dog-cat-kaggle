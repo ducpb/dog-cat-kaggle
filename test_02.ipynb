{
  "nbformat": 4,
  "nbformat_minor": 0,
  "metadata": {
    "colab": {
      "name": "test_02.ipynb",
      "provenance": [],
      "authorship_tag": "ABX9TyNZ1MOpJ+o09E1BSuA82ZH4",
      "include_colab_link": true
    },
    "kernelspec": {
      "name": "python3",
      "display_name": "Python 3"
    },
    "accelerator": "GPU"
  },
  "cells": [
    {
      "cell_type": "markdown",
      "metadata": {
        "id": "view-in-github",
        "colab_type": "text"
      },
      "source": [
        "<a href=\"https://colab.research.google.com/github/ducpb/dog-cat-kaggle/blob/master/test_02.ipynb\" target=\"_parent\"><img src=\"https://colab.research.google.com/assets/colab-badge.svg\" alt=\"Open In Colab\"/></a>"
      ]
    },
    {
      "cell_type": "code",
      "metadata": {
        "id": "rX3XItjMcSsv",
        "colab_type": "code",
        "outputId": "b066fd24-6f8f-4396-a5e4-f3d4e40da83f",
        "colab": {
          "base_uri": "https://localhost:8080/",
          "height": 34
        }
      },
      "source": [
        "from google.colab import drive\n",
        "drive.mount('/content/drive')"
      ],
      "execution_count": 0,
      "outputs": [
        {
          "output_type": "stream",
          "text": [
            "Drive already mounted at /content/drive; to attempt to forcibly remount, call drive.mount(\"/content/drive\", force_remount=True).\n"
          ],
          "name": "stdout"
        }
      ]
    },
    {
      "cell_type": "code",
      "metadata": {
        "id": "xPI1X4V0caC4",
        "colab_type": "code",
        "colab": {}
      },
      "source": [
        "import os, cv2\n",
        "import numpy as np\n",
        "import pandas as pd\n",
        "import matplotlib.pyplot as plt\n",
        "\n",
        "from tensorflow.keras import layers\n",
        "from tensorflow.keras import Model\n",
        "from tensorflow.keras.optimizers import Adam\n",
        "from tensorflow.keras.preprocessing.image import ImageDataGenerator"
      ],
      "execution_count": 0,
      "outputs": []
    },
    {
      "cell_type": "code",
      "metadata": {
        "id": "hWrKlCKocbmv",
        "colab_type": "code",
        "colab": {}
      },
      "source": [
        "train_datagen = ImageDataGenerator(rescale=1./255)\n",
        "val_datagen = ImageDataGenerator(rescale=1./255)"
      ],
      "execution_count": 0,
      "outputs": []
    },
    {
      "cell_type": "code",
      "metadata": {
        "id": "jsHMGBYXcgbv",
        "colab_type": "code",
        "outputId": "f15d176e-55a7-4631-ec18-ca81018dceab",
        "colab": {
          "base_uri": "https://localhost:8080/",
          "height": 51
        }
      },
      "source": [
        "batch_size = 20\n",
        "height, width = (150,150)\n",
        "\n",
        "train_generator = train_datagen.flow_from_directory(\n",
        "        './drive/My Drive/Colab Notebooks/data/train',\n",
        "        target_size=(height, width),\n",
        "        batch_size=batch_size,\n",
        "        class_mode='categorical')\n",
        "\n",
        "validation_generator = val_datagen.flow_from_directory(\n",
        "        './drive/My Drive/Colab Notebooks/data/validation',\n",
        "        target_size=(height, width),\n",
        "        batch_size=batch_size,\n",
        "        class_mode='categorical')"
      ],
      "execution_count": 0,
      "outputs": [
        {
          "output_type": "stream",
          "text": [
            "Found 2000 images belonging to 2 classes.\n",
            "Found 1000 images belonging to 2 classes.\n"
          ],
          "name": "stdout"
        }
      ]
    },
    {
      "cell_type": "code",
      "metadata": {
        "id": "Djwyq4Oicgfe",
        "colab_type": "code",
        "outputId": "48572b83-75c3-4b3e-ea18-0d724c1a84f3",
        "colab": {
          "base_uri": "https://localhost:8080/",
          "height": 527
        }
      },
      "source": [
        "in_put = layers.Input(shape=(150,150,3))\n",
        "x = layers.Conv2D(24, 3, activation='relu')(in_put)\n",
        "x = layers.MaxPooling2D(2)(x)\n",
        "\n",
        "x = layers.Conv2D(48, 3, activation='relu')(x)\n",
        "x = layers.MaxPooling2D(2)(x)\n",
        "\n",
        "x = layers.Conv2D(96, 3, activation='relu')(x)\n",
        "x = layers.MaxPooling2D(2)(x)\n",
        "\n",
        "x = layers.Flatten()(x)\n",
        "x = layers.Dense(512, activation='relu')(x)\n",
        "x = layers.Dropout(0.4)(x)\n",
        "out_put = layers.Dense(2, activation='softmax')(x)\n",
        "\n",
        "model = Model(in_put, out_put)\n",
        "model.summary();"
      ],
      "execution_count": 0,
      "outputs": [
        {
          "output_type": "stream",
          "text": [
            "Model: \"model\"\n",
            "_________________________________________________________________\n",
            "Layer (type)                 Output Shape              Param #   \n",
            "=================================================================\n",
            "input_1 (InputLayer)         [(None, 150, 150, 3)]     0         \n",
            "_________________________________________________________________\n",
            "conv2d (Conv2D)              (None, 148, 148, 24)      672       \n",
            "_________________________________________________________________\n",
            "max_pooling2d (MaxPooling2D) (None, 74, 74, 24)        0         \n",
            "_________________________________________________________________\n",
            "conv2d_1 (Conv2D)            (None, 72, 72, 48)        10416     \n",
            "_________________________________________________________________\n",
            "max_pooling2d_1 (MaxPooling2 (None, 36, 36, 48)        0         \n",
            "_________________________________________________________________\n",
            "conv2d_2 (Conv2D)            (None, 34, 34, 96)        41568     \n",
            "_________________________________________________________________\n",
            "max_pooling2d_2 (MaxPooling2 (None, 17, 17, 96)        0         \n",
            "_________________________________________________________________\n",
            "flatten (Flatten)            (None, 27744)             0         \n",
            "_________________________________________________________________\n",
            "dense (Dense)                (None, 512)               14205440  \n",
            "_________________________________________________________________\n",
            "dropout (Dropout)            (None, 512)               0         \n",
            "_________________________________________________________________\n",
            "dense_1 (Dense)              (None, 2)                 1026      \n",
            "=================================================================\n",
            "Total params: 14,259,122\n",
            "Trainable params: 14,259,122\n",
            "Non-trainable params: 0\n",
            "_________________________________________________________________\n"
          ],
          "name": "stdout"
        }
      ]
    },
    {
      "cell_type": "code",
      "metadata": {
        "id": "HGzdcK7DcgkV",
        "colab_type": "code",
        "colab": {}
      },
      "source": [
        "model.compile(loss='categorical_crossentropy', optimizer=Adam(lr=0.0001), metrics=['acc'])"
      ],
      "execution_count": 0,
      "outputs": []
    },
    {
      "cell_type": "code",
      "metadata": {
        "id": "QBF63Q_Wcm1Q",
        "colab_type": "code",
        "outputId": "41f9fa25-df79-428e-e93c-ba38b79d1079",
        "colab": {
          "base_uri": "https://localhost:8080/",
          "height": 768
        }
      },
      "source": [
        "H =model.fit_generator(\n",
        "      train_generator,\n",
        "      steps_per_epoch=100,\n",
        "      epochs=20,\n",
        "      validation_data=validation_generator,\n",
        "      validation_steps=50,\n",
        "      verbose=2)"
      ],
      "execution_count": 0,
      "outputs": [
        {
          "output_type": "stream",
          "text": [
            "WARNING:tensorflow:From <ipython-input-7-49e94c3b41e1>:7: Model.fit_generator (from tensorflow.python.keras.engine.training) is deprecated and will be removed in a future version.\n",
            "Instructions for updating:\n",
            "Please use Model.fit, which supports generators.\n",
            "Epoch 1/20\n",
            "100/100 - 630s - loss: 0.6912 - acc: 0.5275 - val_loss: 0.6925 - val_acc: 0.5000\n",
            "Epoch 2/20\n",
            "100/100 - 11s - loss: 0.6560 - acc: 0.6255 - val_loss: 0.6302 - val_acc: 0.6580\n",
            "Epoch 3/20\n",
            "100/100 - 11s - loss: 0.6030 - acc: 0.6720 - val_loss: 0.5855 - val_acc: 0.6920\n",
            "Epoch 4/20\n",
            "100/100 - 11s - loss: 0.5443 - acc: 0.7320 - val_loss: 0.5931 - val_acc: 0.6820\n",
            "Epoch 5/20\n",
            "100/100 - 11s - loss: 0.4860 - acc: 0.7690 - val_loss: 0.5428 - val_acc: 0.7240\n",
            "Epoch 6/20\n",
            "100/100 - 11s - loss: 0.4499 - acc: 0.7890 - val_loss: 0.5496 - val_acc: 0.7150\n",
            "Epoch 7/20\n",
            "100/100 - 11s - loss: 0.4023 - acc: 0.8210 - val_loss: 0.5495 - val_acc: 0.7260\n",
            "Epoch 8/20\n",
            "100/100 - 11s - loss: 0.3592 - acc: 0.8455 - val_loss: 0.5579 - val_acc: 0.7270\n",
            "Epoch 9/20\n",
            "100/100 - 11s - loss: 0.3291 - acc: 0.8615 - val_loss: 0.5295 - val_acc: 0.7300\n",
            "Epoch 10/20\n",
            "100/100 - 11s - loss: 0.2997 - acc: 0.8830 - val_loss: 0.5629 - val_acc: 0.7300\n",
            "Epoch 11/20\n",
            "100/100 - 11s - loss: 0.2644 - acc: 0.8940 - val_loss: 0.5516 - val_acc: 0.7390\n",
            "Epoch 12/20\n",
            "100/100 - 11s - loss: 0.2274 - acc: 0.9250 - val_loss: 0.6029 - val_acc: 0.7490\n",
            "Epoch 13/20\n",
            "100/100 - 11s - loss: 0.2134 - acc: 0.9210 - val_loss: 0.5813 - val_acc: 0.7290\n",
            "Epoch 14/20\n",
            "100/100 - 11s - loss: 0.1847 - acc: 0.9415 - val_loss: 0.6088 - val_acc: 0.7070\n",
            "Epoch 15/20\n",
            "100/100 - 11s - loss: 0.1452 - acc: 0.9580 - val_loss: 0.6698 - val_acc: 0.7150\n",
            "Epoch 16/20\n",
            "100/100 - 11s - loss: 0.1323 - acc: 0.9665 - val_loss: 0.6282 - val_acc: 0.7470\n",
            "Epoch 17/20\n",
            "100/100 - 11s - loss: 0.1126 - acc: 0.9695 - val_loss: 0.7169 - val_acc: 0.7280\n",
            "Epoch 18/20\n",
            "100/100 - 11s - loss: 0.0952 - acc: 0.9760 - val_loss: 0.6959 - val_acc: 0.7440\n",
            "Epoch 19/20\n",
            "100/100 - 11s - loss: 0.0814 - acc: 0.9825 - val_loss: 0.7070 - val_acc: 0.7480\n",
            "Epoch 20/20\n",
            "100/100 - 11s - loss: 0.0655 - acc: 0.9895 - val_loss: 0.8665 - val_acc: 0.7060\n"
          ],
          "name": "stdout"
        }
      ]
    },
    {
      "cell_type": "code",
      "metadata": {
        "id": "Yo_mVbHOcm9u",
        "colab_type": "code",
        "outputId": "c96bedae-edc7-4b2a-aef1-4565e372b6a0",
        "colab": {
          "base_uri": "https://localhost:8080/",
          "height": 562
        }
      },
      "source": [
        "acc = H.history['acc']\n",
        "val_acc = H.history['val_acc']\n",
        "loss = H.history['loss']\n",
        "val_loss = H.history['val_loss']\n",
        "\n",
        "epochs = range(len(acc))\n",
        "\n",
        "plt.plot(epochs, acc)\n",
        "plt.plot(epochs, val_acc)\n",
        "plt.title('Training and validation accuracy')\n",
        "\n",
        "plt.figure()\n",
        "\n",
        "plt.plot(epochs, loss)\n",
        "plt.plot(epochs, val_loss)\n",
        "plt.title('Training and validation loss')"
      ],
      "execution_count": 0,
      "outputs": [
        {
          "output_type": "execute_result",
          "data": {
            "text/plain": [
              "Text(0.5, 1.0, 'Training and validation loss')"
            ]
          },
          "metadata": {
            "tags": []
          },
          "execution_count": 8
        },
        {
          "output_type": "display_data",
          "data": {
            "image/png": "[encoded data removed]",
            "text/plain": [
              "<Figure size 432x288 with 1 Axes>"
            ]
          },
          "metadata": {
            "tags": [],
            "needs_background": "light"
          }
        },
        {
          "output_type": "display_data",
          "data": {
            "image/png": "[encoded data removed]",
            "text/plain": [
              "<Figure size 432x288 with 1 Axes>"
            ]
          },
          "metadata": {
            "tags": [],
            "needs_background": "light"
          }
        }
      ]
    }
  ]
}