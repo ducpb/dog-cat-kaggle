{
  "nbformat": 4,
  "nbformat_minor": 0,
  "metadata": {
    "colab": {
      "name": "test_04.ipynb",
      "provenance": [],
      "authorship_tag": "ABX9TyMOnicMgt9c7fnJzp0jmcQI",
      "include_colab_link": true
    },
    "kernelspec": {
      "name": "python3",
      "display_name": "Python 3"
    },
    "accelerator": "GPU"
  },
  "cells": [
    {
      "cell_type": "markdown",
      "metadata": {
        "id": "view-in-github",
        "colab_type": "text"
      },
      "source": [
        "<a href=\"https://colab.research.google.com/github/ducpb/dog-cat-kaggle/blob/master/test_04.ipynb\" target=\"_parent\"><img src=\"https://colab.research.google.com/assets/colab-badge.svg\" alt=\"Open In Colab\"/></a>"
      ]
    },
    {
      "cell_type": "code",
      "metadata": {
        "id": "TOtOy88X1CkE",
        "colab_type": "code",
        "colab": {
          "base_uri": "https://localhost:8080/",
          "height": 34
        },
        "outputId": "5ac67949-5cc1-4a21-db71-bd17c9ceeb48"
      },
      "source": [
        "from google.colab import drive\n",
        "drive.mount('/content/drive')"
      ],
      "execution_count": 1,
      "outputs": [
        {
          "output_type": "stream",
          "text": [
            "Drive already mounted at /content/drive; to attempt to forcibly remount, call drive.mount(\"/content/drive\", force_remount=True).\n"
          ],
          "name": "stdout"
        }
      ]
    },
    {
      "cell_type": "code",
      "metadata": {
        "id": "FwC3KKZl1MS5",
        "colab_type": "code",
        "colab": {}
      },
      "source": [
        "import os, cv2\n",
        "import numpy as np\n",
        "import pandas as pd\n",
        "import matplotlib.pyplot as plt\n",
        "\n",
        "from tensorflow.keras import layers\n",
        "from tensorflow.keras import Model\n",
        "from tensorflow.keras.optimizers import Adam\n",
        "from tensorflow.keras.preprocessing.image import ImageDataGenerator"
      ],
      "execution_count": 0,
      "outputs": []
    },
    {
      "cell_type": "code",
      "metadata": {
        "id": "DL6a2U6X1MVY",
        "colab_type": "code",
        "colab": {}
      },
      "source": [
        "train_datagen = ImageDataGenerator(\n",
        "    rescale=1./255,\n",
        "    rotation_range=60,\n",
        "    width_shift_range=0.2,\n",
        "    height_shift_range=0.2,\n",
        "    horizontal_flip=True,\n",
        "    shear_range=0.2,\n",
        "    zoom_range=0.2\n",
        ")\n",
        "val_datagen = ImageDataGenerator(rescale=1./255)"
      ],
      "execution_count": 0,
      "outputs": []
    },
    {
      "cell_type": "code",
      "metadata": {
        "id": "8EgRH0C_1MYE",
        "colab_type": "code",
        "colab": {
          "base_uri": "https://localhost:8080/",
          "height": 51
        },
        "outputId": "43595406-437a-4293-9538-d8e222f4a2ee"
      },
      "source": [
        "batch_size = 20\n",
        "height, width = (150,150)\n",
        "\n",
        "train_generator = train_datagen.flow_from_directory(\n",
        "        './drive/My Drive/Colab Notebooks/data/train',\n",
        "        target_size=(height, width),\n",
        "        batch_size=batch_size,\n",
        "        class_mode='categorical')\n",
        "\n",
        "validation_generator = val_datagen.flow_from_directory(\n",
        "        './drive/My Drive/Colab Notebooks/data/validation',\n",
        "        target_size=(height, width),\n",
        "        batch_size=batch_size,\n",
        "        class_mode='categorical')"
      ],
      "execution_count": 4,
      "outputs": [
        {
          "output_type": "stream",
          "text": [
            "Found 2000 images belonging to 2 classes.\n",
            "Found 1000 images belonging to 2 classes.\n"
          ],
          "name": "stdout"
        }
      ]
    },
    {
      "cell_type": "code",
      "metadata": {
        "id": "JRhD1v6Z1muK",
        "colab_type": "code",
        "colab": {}
      },
      "source": [
        "from tensorflow.keras.applications.vgg16 import VGG16"
      ],
      "execution_count": 0,
      "outputs": []
    },
    {
      "cell_type": "code",
      "metadata": {
        "id": "o9wvlUD82Avz",
        "colab_type": "code",
        "colab": {}
      },
      "source": [
        "pre_trained_model = VGG16(input_shape=(150,150,3), include_top=False, weights=None)\n",
        "pre_trained_model.load_weights('./drive/My Drive/Colab Notebooks/model_trained/vgg16_weights_tf_dim_ordering_tf_kernels_notop.h5')"
      ],
      "execution_count": 0,
      "outputs": []
    },
    {
      "cell_type": "code",
      "metadata": {
        "id": "dWAizXYk9hpw",
        "colab_type": "code",
        "colab": {
          "base_uri": "https://localhost:8080/",
          "height": 799
        },
        "outputId": "e86dd8fc-9d4d-421d-95dc-edd7d9054a5c"
      },
      "source": [
        "pre_trained_model.summary()"
      ],
      "execution_count": 7,
      "outputs": [
        {
          "output_type": "stream",
          "text": [
            "Model: \"vgg16\"\n",
            "_________________________________________________________________\n",
            "Layer (type)                 Output Shape              Param #   \n",
            "=================================================================\n",
            "input_1 (InputLayer)         [(None, 150, 150, 3)]     0         \n",
            "_________________________________________________________________\n",
            "block1_conv1 (Conv2D)        (None, 150, 150, 64)      1792      \n",
            "_________________________________________________________________\n",
            "block1_conv2 (Conv2D)        (None, 150, 150, 64)      36928     \n",
            "_________________________________________________________________\n",
            "block1_pool (MaxPooling2D)   (None, 75, 75, 64)        0         \n",
            "_________________________________________________________________\n",
            "block2_conv1 (Conv2D)        (None, 75, 75, 128)       73856     \n",
            "_________________________________________________________________\n",
            "block2_conv2 (Conv2D)        (None, 75, 75, 128)       147584    \n",
            "_________________________________________________________________\n",
            "block2_pool (MaxPooling2D)   (None, 37, 37, 128)       0         \n",
            "_________________________________________________________________\n",
            "block3_conv1 (Conv2D)        (None, 37, 37, 256)       295168    \n",
            "_________________________________________________________________\n",
            "block3_conv2 (Conv2D)        (None, 37, 37, 256)       590080    \n",
            "_________________________________________________________________\n",
            "block3_conv3 (Conv2D)        (None, 37, 37, 256)       590080    \n",
            "_________________________________________________________________\n",
            "block3_pool (MaxPooling2D)   (None, 18, 18, 256)       0         \n",
            "_________________________________________________________________\n",
            "block4_conv1 (Conv2D)        (None, 18, 18, 512)       1180160   \n",
            "_________________________________________________________________\n",
            "block4_conv2 (Conv2D)        (None, 18, 18, 512)       2359808   \n",
            "_________________________________________________________________\n",
            "block4_conv3 (Conv2D)        (None, 18, 18, 512)       2359808   \n",
            "_________________________________________________________________\n",
            "block4_pool (MaxPooling2D)   (None, 9, 9, 512)         0         \n",
            "_________________________________________________________________\n",
            "block5_conv1 (Conv2D)        (None, 9, 9, 512)         2359808   \n",
            "_________________________________________________________________\n",
            "block5_conv2 (Conv2D)        (None, 9, 9, 512)         2359808   \n",
            "_________________________________________________________________\n",
            "block5_conv3 (Conv2D)        (None, 9, 9, 512)         2359808   \n",
            "_________________________________________________________________\n",
            "block5_pool (MaxPooling2D)   (None, 4, 4, 512)         0         \n",
            "=================================================================\n",
            "Total params: 14,714,688\n",
            "Trainable params: 14,714,688\n",
            "Non-trainable params: 0\n",
            "_________________________________________________________________\n"
          ],
          "name": "stdout"
        }
      ]
    },
    {
      "cell_type": "code",
      "metadata": {
        "id": "DuhHeao39Qrn",
        "colab_type": "code",
        "colab": {
          "base_uri": "https://localhost:8080/",
          "height": 34
        },
        "outputId": "cd06a93c-7caa-490d-c671-5fd9470e7f00"
      },
      "source": [
        "for layer in pre_trained_model.layers:\n",
        "  layer.trainable = False\n",
        "\n",
        "last_layer = pre_trained_model.get_layer('block5_pool')\n",
        "last_output = last_layer.output\n",
        "print(last_output.shape)"
      ],
      "execution_count": 8,
      "outputs": [
        {
          "output_type": "stream",
          "text": [
            "(None, 4, 4, 512)\n"
          ],
          "name": "stdout"
        }
      ]
    },
    {
      "cell_type": "code",
      "metadata": {
        "id": "RqrufeqA1Mhf",
        "colab_type": "code",
        "colab": {
          "base_uri": "https://localhost:8080/",
          "height": 1000
        },
        "outputId": "d161f9a9-6225-451d-fe9a-cb4aba99d693"
      },
      "source": [
        "x = layers.Flatten()(last_output)\n",
        "x = layers.Dense(1028, activation='relu')(x)\n",
        "x = layers.Dropout(0.4)(x)\n",
        "x = layers.Dense(1028, activation='relu')(x)\n",
        "x = layers.Dropout(0.4)(x)\n",
        "x = layers.Dense(2, activation='softmax')(x)\n",
        "model = Model(pre_trained_model.input, x)\n",
        "model.summary()"
      ],
      "execution_count": 9,
      "outputs": [
        {
          "output_type": "stream",
          "text": [
            "Model: \"model\"\n",
            "_________________________________________________________________\n",
            "Layer (type)                 Output Shape              Param #   \n",
            "=================================================================\n",
            "input_1 (InputLayer)         [(None, 150, 150, 3)]     0         \n",
            "_________________________________________________________________\n",
            "block1_conv1 (Conv2D)        (None, 150, 150, 64)      1792      \n",
            "_________________________________________________________________\n",
            "block1_conv2 (Conv2D)        (None, 150, 150, 64)      36928     \n",
            "_________________________________________________________________\n",
            "block1_pool (MaxPooling2D)   (None, 75, 75, 64)        0         \n",
            "_________________________________________________________________\n",
            "block2_conv1 (Conv2D)        (None, 75, 75, 128)       73856     \n",
            "_________________________________________________________________\n",
            "block2_conv2 (Conv2D)        (None, 75, 75, 128)       147584    \n",
            "_________________________________________________________________\n",
            "block2_pool (MaxPooling2D)   (None, 37, 37, 128)       0         \n",
            "_________________________________________________________________\n",
            "block3_conv1 (Conv2D)        (None, 37, 37, 256)       295168    \n",
            "_________________________________________________________________\n",
            "block3_conv2 (Conv2D)        (None, 37, 37, 256)       590080    \n",
            "_________________________________________________________________\n",
            "block3_conv3 (Conv2D)        (None, 37, 37, 256)       590080    \n",
            "_________________________________________________________________\n",
            "block3_pool (MaxPooling2D)   (None, 18, 18, 256)       0         \n",
            "_________________________________________________________________\n",
            "block4_conv1 (Conv2D)        (None, 18, 18, 512)       1180160   \n",
            "_________________________________________________________________\n",
            "block4_conv2 (Conv2D)        (None, 18, 18, 512)       2359808   \n",
            "_________________________________________________________________\n",
            "block4_conv3 (Conv2D)        (None, 18, 18, 512)       2359808   \n",
            "_________________________________________________________________\n",
            "block4_pool (MaxPooling2D)   (None, 9, 9, 512)         0         \n",
            "_________________________________________________________________\n",
            "block5_conv1 (Conv2D)        (None, 9, 9, 512)         2359808   \n",
            "_________________________________________________________________\n",
            "block5_conv2 (Conv2D)        (None, 9, 9, 512)         2359808   \n",
            "_________________________________________________________________\n",
            "block5_conv3 (Conv2D)        (None, 9, 9, 512)         2359808   \n",
            "_________________________________________________________________\n",
            "block5_pool (MaxPooling2D)   (None, 4, 4, 512)         0         \n",
            "_________________________________________________________________\n",
            "flatten (Flatten)            (None, 8192)              0         \n",
            "_________________________________________________________________\n",
            "dense (Dense)                (None, 1028)              8422404   \n",
            "_________________________________________________________________\n",
            "dropout (Dropout)            (None, 1028)              0         \n",
            "_________________________________________________________________\n",
            "dense_1 (Dense)              (None, 1028)              1057812   \n",
            "_________________________________________________________________\n",
            "dropout_1 (Dropout)          (None, 1028)              0         \n",
            "_________________________________________________________________\n",
            "dense_2 (Dense)              (None, 2)                 2058      \n",
            "=================================================================\n",
            "Total params: 24,196,962\n",
            "Trainable params: 9,482,274\n",
            "Non-trainable params: 14,714,688\n",
            "_________________________________________________________________\n"
          ],
          "name": "stdout"
        }
      ]
    },
    {
      "cell_type": "code",
      "metadata": {
        "id": "7qJpKqzm1Mf_",
        "colab_type": "code",
        "colab": {}
      },
      "source": [
        "model.compile(loss='categorical_crossentropy', optimizer=Adam(lr=0.0001), metrics=['acc'])"
      ],
      "execution_count": 0,
      "outputs": []
    },
    {
      "cell_type": "code",
      "metadata": {
        "id": "5QL-JVB21Mc8",
        "colab_type": "code",
        "colab": {
          "base_uri": "https://localhost:8080/",
          "height": 1000
        },
        "outputId": "c97a98e2-3096-491e-fe31-951ab4e6bf0a"
      },
      "source": [
        "H =model.fit_generator(\n",
        "      train_generator,\n",
        "      steps_per_epoch=100,\n",
        "      epochs=100,\n",
        "      validation_data=validation_generator,\n",
        "      validation_steps=50,\n",
        "      verbose=2)"
      ],
      "execution_count": 11,
      "outputs": [
        {
          "output_type": "stream",
          "text": [
            "WARNING:tensorflow:From <ipython-input-11-b163c29e4bcb>:7: Model.fit_generator (from tensorflow.python.keras.engine.training) is deprecated and will be removed in a future version.\n",
            "Instructions for updating:\n",
            "Please use Model.fit, which supports generators.\n",
            "Epoch 1/100\n",
            "100/100 - 29s - loss: 0.6624 - acc: 0.6565 - val_loss: 0.3540 - val_acc: 0.8490\n",
            "Epoch 2/100\n",
            "100/100 - 29s - loss: 0.5180 - acc: 0.7405 - val_loss: 0.3785 - val_acc: 0.8250\n",
            "Epoch 3/100\n",
            "100/100 - 29s - loss: 0.4443 - acc: 0.7930 - val_loss: 0.3077 - val_acc: 0.8640\n",
            "Epoch 4/100\n",
            "100/100 - 29s - loss: 0.4216 - acc: 0.8010 - val_loss: 0.3132 - val_acc: 0.8690\n",
            "Epoch 5/100\n",
            "100/100 - 30s - loss: 0.4262 - acc: 0.8090 - val_loss: 0.3103 - val_acc: 0.8670\n",
            "Epoch 6/100\n",
            "100/100 - 30s - loss: 0.4295 - acc: 0.7970 - val_loss: 0.2841 - val_acc: 0.8820\n",
            "Epoch 7/100\n",
            "100/100 - 30s - loss: 0.3800 - acc: 0.8285 - val_loss: 0.2917 - val_acc: 0.8660\n",
            "Epoch 8/100\n",
            "100/100 - 30s - loss: 0.3769 - acc: 0.8300 - val_loss: 0.2565 - val_acc: 0.8820\n",
            "Epoch 9/100\n",
            "100/100 - 30s - loss: 0.3675 - acc: 0.8315 - val_loss: 0.3774 - val_acc: 0.8360\n",
            "Epoch 10/100\n",
            "100/100 - 30s - loss: 0.3623 - acc: 0.8365 - val_loss: 0.2812 - val_acc: 0.8750\n",
            "Epoch 11/100\n",
            "100/100 - 30s - loss: 0.3674 - acc: 0.8280 - val_loss: 0.2833 - val_acc: 0.8760\n",
            "Epoch 12/100\n",
            "100/100 - 30s - loss: 0.3557 - acc: 0.8375 - val_loss: 0.2725 - val_acc: 0.8810\n",
            "Epoch 13/100\n",
            "100/100 - 30s - loss: 0.3451 - acc: 0.8455 - val_loss: 0.3627 - val_acc: 0.8410\n",
            "Epoch 14/100\n",
            "100/100 - 30s - loss: 0.3615 - acc: 0.8360 - val_loss: 0.2314 - val_acc: 0.9030\n",
            "Epoch 15/100\n",
            "100/100 - 30s - loss: 0.3586 - acc: 0.8415 - val_loss: 0.2632 - val_acc: 0.8890\n",
            "Epoch 16/100\n",
            "100/100 - 30s - loss: 0.3399 - acc: 0.8395 - val_loss: 0.2546 - val_acc: 0.8860\n",
            "Epoch 17/100\n",
            "100/100 - 30s - loss: 0.3393 - acc: 0.8465 - val_loss: 0.3031 - val_acc: 0.8670\n",
            "Epoch 18/100\n",
            "100/100 - 29s - loss: 0.3428 - acc: 0.8425 - val_loss: 0.2505 - val_acc: 0.8940\n",
            "Epoch 19/100\n",
            "100/100 - 29s - loss: 0.3275 - acc: 0.8500 - val_loss: 0.2674 - val_acc: 0.8800\n",
            "Epoch 20/100\n",
            "100/100 - 29s - loss: 0.3357 - acc: 0.8485 - val_loss: 0.2690 - val_acc: 0.8910\n",
            "Epoch 21/100\n",
            "100/100 - 29s - loss: 0.3327 - acc: 0.8520 - val_loss: 0.2480 - val_acc: 0.8960\n",
            "Epoch 22/100\n",
            "100/100 - 29s - loss: 0.3258 - acc: 0.8580 - val_loss: 0.3224 - val_acc: 0.8550\n",
            "Epoch 23/100\n",
            "100/100 - 29s - loss: 0.3231 - acc: 0.8480 - val_loss: 0.2600 - val_acc: 0.8940\n",
            "Epoch 24/100\n",
            "100/100 - 29s - loss: 0.3341 - acc: 0.8525 - val_loss: 0.2434 - val_acc: 0.8920\n",
            "Epoch 25/100\n",
            "100/100 - 29s - loss: 0.3375 - acc: 0.8505 - val_loss: 0.2701 - val_acc: 0.8800\n",
            "Epoch 26/100\n",
            "100/100 - 29s - loss: 0.3026 - acc: 0.8585 - val_loss: 0.2604 - val_acc: 0.8920\n",
            "Epoch 27/100\n",
            "100/100 - 29s - loss: 0.3154 - acc: 0.8605 - val_loss: 0.2737 - val_acc: 0.8780\n",
            "Epoch 28/100\n",
            "100/100 - 29s - loss: 0.3173 - acc: 0.8610 - val_loss: 0.2632 - val_acc: 0.8940\n",
            "Epoch 29/100\n",
            "100/100 - 29s - loss: 0.3117 - acc: 0.8580 - val_loss: 0.2387 - val_acc: 0.9050\n",
            "Epoch 30/100\n",
            "100/100 - 29s - loss: 0.3053 - acc: 0.8615 - val_loss: 0.2672 - val_acc: 0.8890\n",
            "Epoch 31/100\n",
            "100/100 - 28s - loss: 0.3184 - acc: 0.8555 - val_loss: 0.2682 - val_acc: 0.8960\n",
            "Epoch 32/100\n",
            "100/100 - 28s - loss: 0.3120 - acc: 0.8630 - val_loss: 0.2663 - val_acc: 0.8870\n",
            "Epoch 33/100\n",
            "100/100 - 28s - loss: 0.3213 - acc: 0.8495 - val_loss: 0.2826 - val_acc: 0.8860\n",
            "Epoch 34/100\n",
            "100/100 - 28s - loss: 0.3106 - acc: 0.8650 - val_loss: 0.3461 - val_acc: 0.8600\n",
            "Epoch 35/100\n",
            "100/100 - 29s - loss: 0.3096 - acc: 0.8525 - val_loss: 0.3288 - val_acc: 0.8630\n",
            "Epoch 36/100\n",
            "100/100 - 28s - loss: 0.2946 - acc: 0.8690 - val_loss: 0.2499 - val_acc: 0.8870\n",
            "Epoch 37/100\n",
            "100/100 - 29s - loss: 0.3084 - acc: 0.8615 - val_loss: 0.2657 - val_acc: 0.8900\n",
            "Epoch 38/100\n",
            "100/100 - 29s - loss: 0.2982 - acc: 0.8630 - val_loss: 0.2575 - val_acc: 0.8940\n",
            "Epoch 39/100\n",
            "100/100 - 29s - loss: 0.2890 - acc: 0.8680 - val_loss: 0.2403 - val_acc: 0.9100\n",
            "Epoch 40/100\n",
            "100/100 - 29s - loss: 0.2948 - acc: 0.8710 - val_loss: 0.2765 - val_acc: 0.8800\n",
            "Epoch 41/100\n",
            "100/100 - 29s - loss: 0.2869 - acc: 0.8785 - val_loss: 0.2252 - val_acc: 0.9070\n",
            "Epoch 42/100\n",
            "100/100 - 29s - loss: 0.2815 - acc: 0.8795 - val_loss: 0.2716 - val_acc: 0.8960\n",
            "Epoch 43/100\n",
            "100/100 - 29s - loss: 0.2817 - acc: 0.8900 - val_loss: 0.2900 - val_acc: 0.8810\n",
            "Epoch 44/100\n",
            "100/100 - 28s - loss: 0.2914 - acc: 0.8785 - val_loss: 0.2203 - val_acc: 0.9070\n",
            "Epoch 45/100\n",
            "100/100 - 29s - loss: 0.3143 - acc: 0.8665 - val_loss: 0.2567 - val_acc: 0.8940\n",
            "Epoch 46/100\n",
            "100/100 - 28s - loss: 0.2778 - acc: 0.8745 - val_loss: 0.2845 - val_acc: 0.8830\n",
            "Epoch 47/100\n",
            "100/100 - 28s - loss: 0.2844 - acc: 0.8760 - val_loss: 0.2485 - val_acc: 0.9060\n",
            "Epoch 48/100\n",
            "100/100 - 29s - loss: 0.2604 - acc: 0.8810 - val_loss: 0.2455 - val_acc: 0.9080\n",
            "Epoch 49/100\n",
            "100/100 - 28s - loss: 0.2906 - acc: 0.8655 - val_loss: 0.2271 - val_acc: 0.9080\n",
            "Epoch 50/100\n",
            "100/100 - 28s - loss: 0.2771 - acc: 0.8855 - val_loss: 0.2397 - val_acc: 0.9100\n",
            "Epoch 51/100\n",
            "100/100 - 29s - loss: 0.2765 - acc: 0.8770 - val_loss: 0.2610 - val_acc: 0.8980\n",
            "Epoch 52/100\n",
            "100/100 - 28s - loss: 0.2692 - acc: 0.8835 - val_loss: 0.2674 - val_acc: 0.8890\n",
            "Epoch 53/100\n",
            "100/100 - 28s - loss: 0.2540 - acc: 0.8890 - val_loss: 0.3016 - val_acc: 0.8820\n",
            "Epoch 54/100\n",
            "100/100 - 28s - loss: 0.2697 - acc: 0.8780 - val_loss: 0.2512 - val_acc: 0.9030\n",
            "Epoch 55/100\n",
            "100/100 - 28s - loss: 0.2764 - acc: 0.8770 - val_loss: 0.2518 - val_acc: 0.9110\n",
            "Epoch 56/100\n",
            "100/100 - 28s - loss: 0.2853 - acc: 0.8770 - val_loss: 0.2464 - val_acc: 0.9000\n",
            "Epoch 57/100\n",
            "100/100 - 28s - loss: 0.2875 - acc: 0.8785 - val_loss: 0.2677 - val_acc: 0.8900\n",
            "Epoch 58/100\n",
            "100/100 - 28s - loss: 0.2781 - acc: 0.8805 - val_loss: 0.2453 - val_acc: 0.8990\n",
            "Epoch 59/100\n",
            "100/100 - 29s - loss: 0.2558 - acc: 0.8840 - val_loss: 0.2263 - val_acc: 0.9080\n",
            "Epoch 60/100\n",
            "100/100 - 29s - loss: 0.2597 - acc: 0.8900 - val_loss: 0.2670 - val_acc: 0.8990\n",
            "Epoch 61/100\n",
            "100/100 - 29s - loss: 0.2661 - acc: 0.8820 - val_loss: 0.2855 - val_acc: 0.8930\n",
            "Epoch 62/100\n",
            "100/100 - 29s - loss: 0.2653 - acc: 0.8820 - val_loss: 0.2586 - val_acc: 0.8880\n",
            "Epoch 63/100\n",
            "100/100 - 29s - loss: 0.2584 - acc: 0.8930 - val_loss: 0.2315 - val_acc: 0.9120\n",
            "Epoch 64/100\n",
            "100/100 - 29s - loss: 0.2664 - acc: 0.8850 - val_loss: 0.2665 - val_acc: 0.8990\n",
            "Epoch 65/100\n",
            "100/100 - 28s - loss: 0.2664 - acc: 0.8865 - val_loss: 0.2800 - val_acc: 0.8980\n",
            "Epoch 66/100\n",
            "100/100 - 28s - loss: 0.2674 - acc: 0.8835 - val_loss: 0.2747 - val_acc: 0.9020\n",
            "Epoch 67/100\n",
            "100/100 - 28s - loss: 0.2564 - acc: 0.8925 - val_loss: 0.2923 - val_acc: 0.8700\n",
            "Epoch 68/100\n",
            "100/100 - 28s - loss: 0.2460 - acc: 0.8975 - val_loss: 0.2730 - val_acc: 0.9020\n",
            "Epoch 69/100\n",
            "100/100 - 28s - loss: 0.2502 - acc: 0.8940 - val_loss: 0.2407 - val_acc: 0.9050\n",
            "Epoch 70/100\n",
            "100/100 - 29s - loss: 0.2683 - acc: 0.8745 - val_loss: 0.2326 - val_acc: 0.9180\n",
            "Epoch 71/100\n",
            "100/100 - 29s - loss: 0.2484 - acc: 0.8920 - val_loss: 0.2452 - val_acc: 0.8970\n",
            "Epoch 72/100\n",
            "100/100 - 29s - loss: 0.2438 - acc: 0.9000 - val_loss: 0.2897 - val_acc: 0.8960\n",
            "Epoch 73/100\n",
            "100/100 - 29s - loss: 0.2448 - acc: 0.8900 - val_loss: 0.2995 - val_acc: 0.8910\n",
            "Epoch 74/100\n",
            "100/100 - 28s - loss: 0.2531 - acc: 0.8895 - val_loss: 0.2289 - val_acc: 0.9020\n",
            "Epoch 75/100\n",
            "100/100 - 28s - loss: 0.2356 - acc: 0.9070 - val_loss: 0.2566 - val_acc: 0.9080\n",
            "Epoch 76/100\n",
            "100/100 - 28s - loss: 0.2499 - acc: 0.8930 - val_loss: 0.2424 - val_acc: 0.9040\n",
            "Epoch 77/100\n",
            "100/100 - 28s - loss: 0.2548 - acc: 0.8885 - val_loss: 0.2769 - val_acc: 0.9020\n",
            "Epoch 78/100\n",
            "100/100 - 28s - loss: 0.2537 - acc: 0.8830 - val_loss: 0.2816 - val_acc: 0.8930\n",
            "Epoch 79/100\n",
            "100/100 - 28s - loss: 0.2426 - acc: 0.8975 - val_loss: 0.2266 - val_acc: 0.9060\n",
            "Epoch 80/100\n",
            "100/100 - 28s - loss: 0.2530 - acc: 0.8845 - val_loss: 0.2891 - val_acc: 0.9030\n",
            "Epoch 81/100\n",
            "100/100 - 29s - loss: 0.2540 - acc: 0.8960 - val_loss: 0.2693 - val_acc: 0.9030\n",
            "Epoch 82/100\n",
            "100/100 - 28s - loss: 0.2342 - acc: 0.9000 - val_loss: 0.2692 - val_acc: 0.9010\n",
            "Epoch 83/100\n",
            "100/100 - 28s - loss: 0.2482 - acc: 0.8915 - val_loss: 0.2378 - val_acc: 0.9120\n",
            "Epoch 84/100\n",
            "100/100 - 28s - loss: 0.2291 - acc: 0.9000 - val_loss: 0.2799 - val_acc: 0.9010\n",
            "Epoch 85/100\n",
            "100/100 - 28s - loss: 0.2548 - acc: 0.8885 - val_loss: 0.2712 - val_acc: 0.9070\n",
            "Epoch 86/100\n",
            "100/100 - 28s - loss: 0.2483 - acc: 0.8875 - val_loss: 0.3214 - val_acc: 0.8860\n",
            "Epoch 87/100\n",
            "100/100 - 28s - loss: 0.2317 - acc: 0.8960 - val_loss: 0.2707 - val_acc: 0.9040\n",
            "Epoch 88/100\n",
            "100/100 - 28s - loss: 0.2397 - acc: 0.9025 - val_loss: 0.3019 - val_acc: 0.8880\n",
            "Epoch 89/100\n",
            "100/100 - 28s - loss: 0.2358 - acc: 0.8960 - val_loss: 0.2487 - val_acc: 0.9110\n",
            "Epoch 90/100\n",
            "100/100 - 28s - loss: 0.2560 - acc: 0.8900 - val_loss: 0.2675 - val_acc: 0.8910\n",
            "Epoch 91/100\n",
            "100/100 - 28s - loss: 0.2294 - acc: 0.8960 - val_loss: 0.2610 - val_acc: 0.9050\n",
            "Epoch 92/100\n",
            "100/100 - 28s - loss: 0.2464 - acc: 0.9005 - val_loss: 0.2570 - val_acc: 0.9100\n",
            "Epoch 93/100\n",
            "100/100 - 28s - loss: 0.2365 - acc: 0.9020 - val_loss: 0.2773 - val_acc: 0.8990\n",
            "Epoch 94/100\n",
            "100/100 - 28s - loss: 0.2287 - acc: 0.9045 - val_loss: 0.2553 - val_acc: 0.9120\n",
            "Epoch 95/100\n",
            "100/100 - 28s - loss: 0.2373 - acc: 0.8970 - val_loss: 0.2488 - val_acc: 0.9020\n",
            "Epoch 96/100\n",
            "100/100 - 28s - loss: 0.2236 - acc: 0.9060 - val_loss: 0.2573 - val_acc: 0.9110\n",
            "Epoch 97/100\n",
            "100/100 - 28s - loss: 0.2130 - acc: 0.9115 - val_loss: 0.2775 - val_acc: 0.9050\n",
            "Epoch 98/100\n",
            "100/100 - 29s - loss: 0.2124 - acc: 0.9120 - val_loss: 0.2508 - val_acc: 0.9100\n",
            "Epoch 99/100\n",
            "100/100 - 29s - loss: 0.2144 - acc: 0.9150 - val_loss: 0.2789 - val_acc: 0.9040\n",
            "Epoch 100/100\n",
            "100/100 - 29s - loss: 0.2203 - acc: 0.9050 - val_loss: 0.2823 - val_acc: 0.9010\n"
          ],
          "name": "stdout"
        }
      ]
    },
    {
      "cell_type": "code",
      "metadata": {
        "id": "Q7rinyWy1Ma1",
        "colab_type": "code",
        "colab": {
          "base_uri": "https://localhost:8080/",
          "height": 562
        },
        "outputId": "1d60a40a-9e14-4c1c-89f3-01fda1287814"
      },
      "source": [
        "acc = H.history['acc']\n",
        "val_acc = H.history['val_acc']\n",
        "loss = H.history['loss']\n",
        "val_loss = H.history['val_loss']\n",
        "\n",
        "epochs = range(len(acc))\n",
        "\n",
        "plt.plot(epochs, acc)\n",
        "plt.plot(epochs, val_acc)\n",
        "plt.title('Training and validation accuracy')\n",
        "\n",
        "plt.figure()\n",
        "\n",
        "plt.plot(epochs, loss)\n",
        "plt.plot(epochs, val_loss)\n",
        "plt.title('Training and validation loss')"
      ],
      "execution_count": 12,
      "outputs": [
        {
          "output_type": "execute_result",
          "data": {
            "text/plain": [
              "Text(0.5, 1.0, 'Training and validation loss')"
            ]
          },
          "metadata": {
            "tags": []
          },
          "execution_count": 12
        },
        {
          "output_type": "display_data",
          "data": {
            "image/png": "[encoded data removed]",
            "text/plain": [
              "<Figure size 432x288 with 1 Axes>"
            ]
          },
          "metadata": {
            "tags": [],
            "needs_background": "light"
          }
        },
        {
          "output_type": "display_data",
          "data": {
            "image/png": "[encoded data removed]",
            "text/plain": [
              "<Figure size 432x288 with 1 Axes>"
            ]
          },
          "metadata": {
            "tags": [],
            "needs_background": "light"
          }
        }
      ]
    }
  ]
}